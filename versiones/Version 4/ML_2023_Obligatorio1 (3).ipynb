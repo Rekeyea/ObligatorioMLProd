{
  "cells": [
    {
      "cell_type": "markdown",
      "source": [
        "#Imports"
      ],
      "metadata": {
        "id": "PRoHhH5xdim2"
      }
    },
    {
      "cell_type": "code",
      "source": [
        "pip install tensorflow-model-optimization"
      ],
      "metadata": {
        "id": "ALb9mj5ZfQRZ"
      },
      "execution_count": null,
      "outputs": []
    },
    {
      "cell_type": "code",
      "execution_count": 1,
      "metadata": {
        "colab": {
          "base_uri": "https://localhost:8080/"
        },
        "id": "V1aRQ9qc60nB",
        "outputId": "a463beb3-5ed8-44cf-9476-6eb307a403b4"
      },
      "outputs": [
        {
          "output_type": "stream",
          "name": "stdout",
          "text": [
            "Mounted at /content/drive\n"
          ]
        }
      ],
      "source": [
        "import os\n",
        "import io\n",
        "import torch\n",
        "\n",
        "import numpy as np\n",
        "import pandas as pd\n",
        "from PIL import Image\n",
        "import tensorflow as tf\n",
        "from tensorflow.keras.models import Model\n",
        "from tensorflow.keras.optimizers import Adam\n",
        "from sklearn.model_selection import train_test_split\n",
        "from tensorflow.keras.applications.xception import Xception\n",
        "from tensorflow.keras.preprocessing import image\n",
        "from tensorflow.keras.applications.xception import preprocess_input, decode_predictions\n",
        "from tensorflow.keras.layers import Input, Flatten, Dense, Embedding, concatenate,LSTM\n",
        "from tensorflow.keras.preprocessing.image import ImageDataGenerator\n",
        "from tensorflow.keras.utils import to_categorical\n",
        "\n",
        "import tensorflow_model_optimization as tfmot\n",
        "from tensorflow_model_optimization.sparsity import keras as sparsity\n",
        "from tensorflow_model_optimization.python.core.quantization.keras.quantize_wrapper import QuantizeWrapper\n",
        "\n",
        "DEVICE = torch.device('cuda:0' if torch.cuda.is_available() else 'cpu')\n",
        "from google.colab import drive\n",
        "drive.mount(\"/content/drive\")\n",
        "\n",
        "#! cp \"/content/drive/My Drive/dataML2023/glove.6B.50d.txt\" .\n",
        "\n",
        "! cp \"/content/drive/My Drive/dataML2023/embeddings-xs-model.vec\" .\n",
        "! cp \"/content/drive/My Drive/dataML2023/dataset123.csv\" .\n",
        "! cp -r \"/content/drive/My Drive/dataML2023/img123\" .\n",
        "\n",
        "#ONLY WHEN YOU HAVE TO PREDICT USING EXISTING MODEL\n",
        "! cp -r \"/content/drive/My Drive/ORT/ML Prod/Obligatorio/Modelo/model.h5\" .\n",
        "\n",
        "#path= \"Users/GP147352/Obligatorio/glove.6B.50d.txt\"\n",
        "file = \"s101006-2l-13-54ce75b2-6d98-4e88-bad4-1a1e94b2b4cb_fdf66140-1db7-4dc4-8c6a-f8f58ec87151.jpg_v=1686155027\"\n",
        "path=\"glove.6B.50d.txt\"\n",
        "path=\"embeddings-xs-model.vec\""
      ]
    },
    {
      "cell_type": "code",
      "source": [
        "import tensorflow as tf\n",
        "from tensorflow import keras\n",
        "# Cargar el modelo desde el archivo h5\n",
        "modelH5 = keras.models.load_model('model.h5')\n",
        "\n"
      ],
      "metadata": {
        "id": "NINuPSX7TtcA"
      },
      "execution_count": 4,
      "outputs": []
    },
    {
      "cell_type": "code",
      "source": [
        "# Renombrar la capa \"input_2\"\n",
        "model_config = modelH5.get_config()\n",
        "model_config['layers'][0]['config']['name'] = 'new_input'\n",
        "\n",
        "# Crear un nuevo modelo secuencial\n",
        "model_seq = tf.keras.Sequential()\n",
        "\n",
        "# Recorrer las capas del modelo funcional (excepto la primera capa renombrada)\n",
        "for layer in modelH5.layers[1:]:\n",
        "\n",
        "    layer_config = layer.get_config()\n",
        "\n",
        "    # Modificar la configuración de la capa si es necesario\n",
        "    if layer_config['name'] == 'concatenate':\n",
        "        # Actualizar la lista de entradas de la capa Concatenate\n",
        "        layer_config['input_shape'] = [layer_input.shape.as_list()[1:] for layer_input in layer.input]\n",
        "\n",
        "    # Crear una nueva capa a partir de la configuración\n",
        "    new_layer = tf.keras.layers.deserialize({'class_name': layer.__class__.__name__, 'config': layer_config})\n",
        "\n",
        "    # Verificar si la capa tiene pesos\n",
        "    if layer.weights:\n",
        "        # Obtener los pesos de la capa original\n",
        "        layer_weights = layer.get_layer(layer.name).get_weights()\n",
        "\n",
        "        # Establecer los pesos en la nueva capa\n",
        "        new_layer.set_weights(layer_weights)\n",
        "\n",
        "    # Agregar la nueva capa al modelo secuencial\n",
        "    model_seq.add(new_layer)\n",
        "\n",
        "# Cuantizar el modelo secuencial\n",
        "quantized_model = tfmot.quantization.keras.quantize_model(model_seq)\n",
        "\n",
        "# Guardar el modelo cuantizado en un nuevo archivo h5\n",
        "quantized_model.save('modelo_cuantizado.h5')\n",
        "\n"
      ],
      "metadata": {
        "colab": {
          "base_uri": "https://localhost:8080/",
          "height": 495
        },
        "id": "jbdxq-lnUM2T",
        "outputId": "2bcf09a8-2801-4c7e-b872-bf8c5d6c8eaf"
      },
      "execution_count": 18,
      "outputs": [
        {
          "output_type": "error",
          "ename": "ValueError",
          "evalue": "ignored",
          "traceback": [
            "\u001b[0;31m---------------------------------------------------------------------------\u001b[0m",
            "\u001b[0;31mValueError\u001b[0m                                Traceback (most recent call last)",
            "\u001b[0;32m<ipython-input-18-7838afdaac6a>\u001b[0m in \u001b[0;36m<cell line: 9>\u001b[0;34m()\u001b[0m\n\u001b[1;32m     22\u001b[0m     \u001b[0;32mif\u001b[0m \u001b[0mlayer\u001b[0m\u001b[0;34m.\u001b[0m\u001b[0mweights\u001b[0m\u001b[0;34m:\u001b[0m\u001b[0;34m\u001b[0m\u001b[0;34m\u001b[0m\u001b[0m\n\u001b[1;32m     23\u001b[0m         \u001b[0;31m# Obtener los pesos de la capa original\u001b[0m\u001b[0;34m\u001b[0m\u001b[0;34m\u001b[0m\u001b[0m\n\u001b[0;32m---> 24\u001b[0;31m         \u001b[0mlayer_weights\u001b[0m \u001b[0;34m=\u001b[0m \u001b[0mlayer\u001b[0m\u001b[0;34m.\u001b[0m\u001b[0mget_layer\u001b[0m\u001b[0;34m(\u001b[0m\u001b[0mlayer\u001b[0m\u001b[0;34m.\u001b[0m\u001b[0mname\u001b[0m\u001b[0;34m)\u001b[0m\u001b[0;34m.\u001b[0m\u001b[0mget_weights\u001b[0m\u001b[0;34m(\u001b[0m\u001b[0;34m)\u001b[0m\u001b[0;34m\u001b[0m\u001b[0;34m\u001b[0m\u001b[0m\n\u001b[0m\u001b[1;32m     25\u001b[0m \u001b[0;34m\u001b[0m\u001b[0m\n\u001b[1;32m     26\u001b[0m         \u001b[0;31m# Establecer los pesos en la nueva capa\u001b[0m\u001b[0;34m\u001b[0m\u001b[0;34m\u001b[0m\u001b[0m\n",
            "\u001b[0;32m/usr/local/lib/python3.10/dist-packages/keras/engine/training.py\u001b[0m in \u001b[0;36mget_layer\u001b[0;34m(self, name, index)\u001b[0m\n\u001b[1;32m   3288\u001b[0m                 \u001b[0;32mif\u001b[0m \u001b[0mlayer\u001b[0m\u001b[0;34m.\u001b[0m\u001b[0mname\u001b[0m \u001b[0;34m==\u001b[0m \u001b[0mname\u001b[0m\u001b[0;34m:\u001b[0m\u001b[0;34m\u001b[0m\u001b[0;34m\u001b[0m\u001b[0m\n\u001b[1;32m   3289\u001b[0m                     \u001b[0;32mreturn\u001b[0m \u001b[0mlayer\u001b[0m\u001b[0;34m\u001b[0m\u001b[0;34m\u001b[0m\u001b[0m\n\u001b[0;32m-> 3290\u001b[0;31m             raise ValueError(\n\u001b[0m\u001b[1;32m   3291\u001b[0m                 \u001b[0;34mf\"No such layer: {name}. Existing layers are: \"\u001b[0m\u001b[0;34m\u001b[0m\u001b[0;34m\u001b[0m\u001b[0m\n\u001b[1;32m   3292\u001b[0m                 \u001b[0;34mf\"{list(layer.name for layer in self.layers)}.\"\u001b[0m\u001b[0;34m\u001b[0m\u001b[0;34m\u001b[0m\u001b[0m\n",
            "\u001b[0;31mValueError\u001b[0m: No such layer: xception. Existing layers are: ['input_1', 'block1_conv1', 'block1_conv1_bn', 'block1_conv1_act', 'block1_conv2', 'block1_conv2_bn', 'block1_conv2_act', 'block2_sepconv1', 'block2_sepconv1_bn', 'block2_sepconv2_act', 'block2_sepconv2', 'block2_sepconv2_bn', 'conv2d', 'block2_pool', 'batch_normalization', 'add', 'block3_sepconv1_act', 'block3_sepconv1', 'block3_sepconv1_bn', 'block3_sepconv2_act', 'block3_sepconv2', 'block3_sepconv2_bn', 'conv2d_1', 'block3_pool', 'batch_normalization_1', 'add_1', 'block4_sepconv1_act', 'block4_sepconv1', 'block4_sepconv1_bn', 'block4_sepconv2_act', 'block4_sepconv2', 'block4_sepconv2_bn', 'conv2d_2', 'block4_pool', 'batch_normalization_2', 'add_2', 'block5_sepconv1_act', 'block5_sepconv1', 'block5_sepconv1_bn', 'block5_sepconv2_act', 'block5_sepconv2', 'block5_sepconv2_bn', 'block5_sepconv3_act', 'block5_sepconv3', 'block5_sepconv3_bn', 'add_3', 'block6_sepconv1_act', 'block6_sepconv1', 'block6_sepconv1_bn', 'block6_sepconv2_act', 'block6_sepconv2', 'block6_sepconv2_bn', 'block6_sepconv3_act', 'block6_sepconv3', 'block6_sepconv3_bn', 'add_4', 'block7_sepconv1_act', 'block7_sepconv1', 'block7_sepconv1_bn', 'block7_sepconv2_act', 'block7_sepconv2', 'block7_sepconv2_bn', 'block7_sepconv3_act', 'block7_sepconv3', 'block7_sepconv3_bn', 'add_5', 'block8_sepconv1_act', 'block8_sepconv1', 'block8_sepconv1_bn', 'block8_sepconv2_act', 'block8_sepconv2', 'block8_sepconv2_bn', 'block8_sepconv3_act', 'block8_sepcon..."
          ]
        }
      ]
    },
    {
      "cell_type": "code",
      "source": [
        "# Cuantizar el modelo secuencial\n",
        "quantized_model = tfmot.quantization.keras.quantize_model(model_seq)"
      ],
      "metadata": {
        "id": "kC0M1eDzWjEp"
      },
      "execution_count": null,
      "outputs": []
    },
    {
      "cell_type": "code",
      "source": [
        "# Guardar el modelo cuantizado en un nuevo archivo h5\n",
        "quantized_model.save('modelo_cuantizado.h5')"
      ],
      "metadata": {
        "id": "7Jr9VjF2UiFZ"
      },
      "execution_count": null,
      "outputs": []
    },
    {
      "cell_type": "markdown",
      "source": [
        "#Flags"
      ],
      "metadata": {
        "id": "eNlimzjghimY"
      }
    },
    {
      "cell_type": "code",
      "source": [
        "pruning_used = False\n",
        "data_augmentation_used = False\n",
        "grid_search_used = False\n",
        "quantization_used = True"
      ],
      "metadata": {
        "id": "zge2QkpWhkvQ"
      },
      "execution_count": null,
      "outputs": []
    },
    {
      "cell_type": "markdown",
      "source": [
        "#Image Utilities"
      ],
      "metadata": {
        "id": "7rHfaLKs_MoS"
      }
    },
    {
      "cell_type": "code",
      "source": [
        "def getImagesInFolder():\n",
        "  folder_path = 'img123'\n",
        "  elements = os.listdir(folder_path)\n",
        "  count = len(elements)\n",
        "\n",
        "  print(\"Number of elements in the folder:\", count)"
      ],
      "metadata": {
        "id": "QC-cwP9zN5TT"
      },
      "execution_count": null,
      "outputs": []
    },
    {
      "cell_type": "code",
      "source": [
        "def showImage(img_path):\n",
        "  #img_path = \"img/s101006-2l-13-54ce75b2-6d98-4e88-bad4-1a1e94b2b4cb_fdf66140-1db7-4dc4-8c6a-f8f58ec87151.jpg_v=1686155027\"\n",
        "\n",
        "  image = Image.open(img_path)\n",
        "\n",
        "  image.show()"
      ],
      "metadata": {
        "id": "K57OHMH5EPec"
      },
      "execution_count": null,
      "outputs": []
    },
    {
      "cell_type": "code",
      "source": [
        "def getImageFileName(url):\n",
        "\n",
        "  delimiterString = \"/\"\n",
        "\n",
        "  index = url.rfind(delimiterString)+ 1\n",
        "\n",
        "  imageFileName = url[index:]\n",
        "\n",
        "  imageFileName = imageFileName.replace('?', '_')\n",
        "\n",
        "  return imageFileName"
      ],
      "metadata": {
        "id": "Gd_Fvefi-EQi"
      },
      "execution_count": null,
      "outputs": []
    },
    {
      "cell_type": "code",
      "source": [
        "def imageToBytes(filename):\n",
        "  try:\n",
        "    with open(filename, 'rb') as file:\n",
        "        byte_stream = file.read()\n",
        "    return byte_stream\n",
        "  except FileNotFoundError:\n",
        "    print(f\"File '{filename}' not found.\")\n",
        "    return None"
      ],
      "metadata": {
        "id": "f7q5rgYqLwld"
      },
      "execution_count": null,
      "outputs": []
    },
    {
      "cell_type": "code",
      "source": [
        "def converToRGB(image):\n",
        "    if image.mode == 'RGBA':\n",
        "        # Create a new RGB image with a white background\n",
        "        rgb_image = Image.new('RGB', image.size, (255, 255, 255))\n",
        "        # Composite the RGBA image onto the RGB image\n",
        "        rgb_image.paste(image, mask=image.split()[3])\n",
        "        return rgb_image\n",
        "    elif image.mode == 'RGB':\n",
        "        # If the image is already in RGB format, return it as it is\n",
        "        return image\n",
        "    else:\n",
        "        # For other image modes, convert to RGB\n",
        "        return image.convert('RGB')"
      ],
      "metadata": {
        "id": "SlQl8C7lZ6ZA"
      },
      "execution_count": null,
      "outputs": []
    },
    {
      "cell_type": "code",
      "source": [
        "def preProcessPredictImage(image):\n",
        "    image = converToRGB(image)\n",
        "    image = image.resize((299, 299))\n",
        "    image = np.array(image)\n",
        "    #Convert pixel values to the range of [-1, 1] + Normalize the image by subtracting the mean RGB values of the ImageNet dataset.\n",
        "    image = tf.keras.applications.xception.preprocess_input(image)\n",
        "    image = np.expand_dims(image, axis=0)\n",
        "    return image"
      ],
      "metadata": {
        "id": "YZBGLXiMyzip"
      },
      "execution_count": null,
      "outputs": []
    },
    {
      "cell_type": "code",
      "source": [
        "def preProcessImage(image_path):\n",
        "    image = Image.open(\"img123/\"+image_path)\n",
        "    image = converToRGB(image)\n",
        "    #print(\"img123/\"+image_path)\n",
        "    image = image.resize((299, 299))\n",
        "    image = np.array(image)\n",
        "    image = tf.keras.applications.xception.preprocess_input(image)\n",
        "    image = np.expand_dims(image, axis=0)\n",
        "    return image"
      ],
      "metadata": {
        "id": "HHnOQhCyZ-jo"
      },
      "execution_count": null,
      "outputs": []
    },
    {
      "cell_type": "code",
      "source": [
        "train_images = []\n",
        "def addImagesToDataSet():\n",
        "  for index, row in df.iterrows():\n",
        "    image_url = row['images']\n",
        "    #print(image_url)\n",
        "    image_fileName = getImageFileName(image_url)\n",
        "    #print(image_fileName)\n",
        "    image = preProcessImage(image_fileName)\n",
        "    train_images.append(image)\n",
        "    #print(type(image))\n",
        "    #df.at[index, 'imageObj'] = image"
      ],
      "metadata": {
        "id": "7Vj2PkZ6aZJA"
      },
      "execution_count": null,
      "outputs": []
    },
    {
      "cell_type": "code",
      "source": [
        "def addImagesToDataSet(df):\n",
        "  images = []\n",
        "  for index, row in df.iterrows():\n",
        "    image_url = row['images']\n",
        "    image_fileName = getImageFileName(image_url)\n",
        "    image = preProcessImage(image_fileName)\n",
        "    images.append(image)\n",
        "\n",
        "  return images"
      ],
      "metadata": {
        "id": "rpl_h-hyaeov"
      },
      "execution_count": null,
      "outputs": []
    },
    {
      "cell_type": "code",
      "source": [
        "def dataAugmentation(trainImages):\n",
        "  #https://fairyonice.github.io/Learn-about-ImageDataGenerator.html\n",
        "  # Define the data augmentation parameters\n",
        "  datagen = ImageDataGenerator(\n",
        "    rotation_range=20,#Degree range for random rotations.\n",
        "    shear_range=0.2,#Shear angle in degrees.\n",
        "    zoom_range=0.2,#Range for random zoom\n",
        "    horizontal_flip=True,#Randomly flip inputs horizontally.\n",
        "    )\n",
        "  x= np.stack(trainImages)\n",
        "  # Reshape the input to match the expected shape for data augmentation\n",
        "  x = x.reshape((-1,) + x.shape[2:])\n",
        "  # Generate augmented images\n",
        "  augmented_images = []\n",
        "  counter = 0\n",
        "  for img in x:\n",
        "    img = np.expand_dims(img, axis=0)  # Add an extra dimension to match batch size of 1\n",
        "    augmented_image = next(datagen.flow(img, batch_size=1))\n",
        "    #print(len(augmented_image))\n",
        "    augmented_image = np.expand_dims(augmented_image, axis=0)\n",
        "    augmented_images.append(augmented_image[0])\n",
        "    counter += 1\n",
        "    if counter >= len(x):\n",
        "        break\n",
        "  return augmented_images"
      ],
      "metadata": {
        "id": "ldwYolTMuQXM"
      },
      "execution_count": null,
      "outputs": []
    },
    {
      "cell_type": "code",
      "source": [
        "def showImages(images):\n",
        "  fig, axes = plt.subplots(nrows=len(images), ncols=1, figsize=(100, 100))\n",
        "  for i, img in enumerate(images):\n",
        "      if img.ndim == 2:\n",
        "        axes[i].imshow(img, cmap='gray')\n",
        "      elif img.ndim == 3:\n",
        "        axes[i].imshow(img)\n",
        "      axes[i].axis('off')\n",
        "\n",
        "  plt.tight_layout()\n",
        "  plt.show()"
      ],
      "metadata": {
        "id": "e4kCAB8ru7-E"
      },
      "execution_count": null,
      "outputs": []
    },
    {
      "cell_type": "markdown",
      "metadata": {
        "id": "r9_jeHTUQt0T"
      },
      "source": [
        "# Preprocesamiento Texto"
      ]
    },
    {
      "cell_type": "code",
      "execution_count": null,
      "metadata": {
        "colab": {
          "base_uri": "https://localhost:8080/"
        },
        "id": "VmRY0yQELXmn",
        "outputId": "4b3a0c5a-9702-4cc1-fd7f-37981060c7cc"
      },
      "outputs": [
        {
          "output_type": "stream",
          "name": "stderr",
          "text": [
            "[nltk_data] Downloading package stopwords to /root/nltk_data...\n",
            "[nltk_data]   Unzipping corpora/stopwords.zip.\n",
            "[nltk_data] Downloading package wordnet to /root/nltk_data...\n"
          ]
        }
      ],
      "source": [
        "import re\n",
        "import nltk\n",
        "from nltk.corpus import stopwords\n",
        "from nltk.stem import WordNetLemmatizer\n",
        "from nltk.stem import SnowballStemmer\n",
        "nltk.download('stopwords')\n",
        "nltk.download('wordnet')\n",
        "stemmer = SnowballStemmer('spanish')\n",
        "\n",
        "def remove_special_characters(text):\n",
        "  pattern = r'[^a-zA-Z0-9\\s]'\n",
        "  text = re.sub(pattern,'',text)\n",
        "  return text\n",
        "\n",
        "def low_level_preproc(text):\n",
        "  text = remove_special_characters(text)\n",
        "  text = text.lower()\n",
        "  return text\n",
        "# Remove stopwords for spanish language: https://github.com/Alir3z4/stop-words/blob/master/spanish.txt\n",
        "all_stopwords = set(stopwords.words(\"spanish\"))\n",
        "\n",
        "def remove_stop_words(full_text_line):\n",
        "  tokens = full_text_line.split()\n",
        "  tokens = [tok for tok in tokens if tok not in all_stopwords]\n",
        "\n",
        "  return \" \".join(tokens)\n",
        "\n",
        "#Lemmatization is the process of reducing words to their base or root form\n",
        "#\"The cats were playing with the mice\"\n",
        "#The cat were playing with the mouse\n",
        "def lemmatize(text):\n",
        "  wnl= WordNetLemmatizer()\n",
        "  lemas = [wnl.lemmatize(word) for word in text.split()]\n",
        "\n",
        "  return \" \".join(lemas)\n",
        "\n",
        "#Stemming: reduce words to their base or root form\n",
        "#words = ['correr', 'corriendo', 'corre', 'corrió']\n",
        "#output= ['corr', 'corr', 'corr', 'corr']\n",
        "def stem(text):\n",
        "  stemmed_words = [stemmer.stem(word) for word in text.split()]\n",
        "  return \" \".join(stemmed_words)\n",
        "\n",
        "\n",
        "def high_level_preproc(text):\n",
        "  text = remove_stop_words(text)\n",
        "  return stem(text)\n",
        "\n",
        "def remove_empty_words(questions_data):\n",
        "  df = questions_data\n",
        "  originalLen = len(df)\n",
        "  indexes = []\n",
        "  for index ,row in df.iterrows():\n",
        "    text = row['question_text']\n",
        "    if (text==\"\"):\n",
        "      indexes.append(index)\n",
        "\n",
        "  df = df.drop(indexes);\n",
        "  finalLen = len(df)\n",
        "  print(f\"Len Original: {originalLen}, Registros Eliminados: {originalLen-finalLen}\")\n",
        "  return df\n",
        "\n",
        "def remove_duplicated(serie):\n",
        "  return serie.drop_duplicates()\n",
        "\n"
      ]
    },
    {
      "cell_type": "markdown",
      "source": [
        "# Load DataSet"
      ],
      "metadata": {
        "id": "NlfwfrorEdN5"
      }
    },
    {
      "cell_type": "code",
      "execution_count": null,
      "metadata": {
        "id": "svEYI1bqB3PN"
      },
      "outputs": [],
      "source": [
        "# Read the uploaded file\n",
        "df = pd.read_csv('dataset123.csv')\n",
        "df['imageObj'] = None"
      ]
    },
    {
      "cell_type": "code",
      "source": [
        "#df = df.drop(to_delete)"
      ],
      "metadata": {
        "id": "oLoCrLJ8hoDl"
      },
      "execution_count": null,
      "outputs": []
    },
    {
      "cell_type": "markdown",
      "source": [
        "##Process Text"
      ],
      "metadata": {
        "id": "2fsQOYQ_boAd"
      }
    },
    {
      "cell_type": "code",
      "execution_count": null,
      "metadata": {
        "colab": {
          "base_uri": "https://localhost:8080/"
        },
        "id": "14SNj3dTESCn",
        "outputId": "052c43df-ca43-4e90-cf12-17ea41580c0f"
      },
      "outputs": [
        {
          "output_type": "stream",
          "name": "stdout",
          "text": [
            "0     Gold Standard 100% Whey Protein (2 Lb) - Origi...\n",
            "1     Enjuague Bucal Tea Tree (500 ml)Nuestras formu...\n",
            "2     MÃ¡scara Jelly Mask Hydrating Vitamina E (1 un...\n",
            "3     VITAMINA K2Vitamina K2 es un suplemento alimen...\n",
            "4     Hand Grip + ContadorHAND GRIP AJUSTABLE FITNES...\n",
            "                            ...                        \n",
            "65    Lentes de Sol Polaroid 8411A 9CA 63/16Descripc...\n",
            "66    Armazones Unofficial UNOM0063 BB00 52/19CoÌdi...\n",
            "67    Lentes de Sol Ray Ban 2140 902/57 50/22CoÌdig...\n",
            "68    Lentes de Sol Unofficial  UNSM0014 HHE0 57/14D...\n",
            "69    Lentes de Sol Unofficial Polarizado UNSU0083PH...\n",
            "Length: 70, dtype: object\n"
          ]
        }
      ],
      "source": [
        "# Concatenate title and description\n",
        "title_desc =  df.iloc[:, 0] + df.iloc[:, 1]\n",
        "# Print the updated DataFrame\n",
        "print(title_desc)"
      ]
    },
    {
      "cell_type": "code",
      "execution_count": null,
      "metadata": {
        "colab": {
          "base_uri": "https://localhost:8080/"
        },
        "id": "4lsHttdtOJrO",
        "outputId": "d45f6289-eb41-43cc-e5f1-acef3cb53b0d"
      },
      "outputs": [
        {
          "output_type": "stream",
          "name": "stdout",
          "text": [
            "0     gold standard 100 whey protein 2 lb  original1...\n",
            "1     enjuague bucal tea tree 500 mlnuestras formula...\n",
            "2     mscara jelly mask hydrating vitamina e 1 unmas...\n",
            "3     vitamina k2vitamina k2 es un suplemento alimen...\n",
            "4     hand grip  contadorhand grip ajustable fitness...\n",
            "                            ...                        \n",
            "65    lentes de sol polaroid 8411a 9ca 6316descripci...\n",
            "66    armazones unofficial unom0063 bb00 5219codigo ...\n",
            "67    lentes de sol ray ban 2140 90257 5022codigo de...\n",
            "68    lentes de sol unofficial  unsm0014 hhe0 5714de...\n",
            "69    lentes de sol unofficial polarizado unsu0083ph...\n",
            "Length: 70, dtype: object\n"
          ]
        }
      ],
      "source": [
        "#Procesamiento de Bajo Nivel\n",
        "title_desc = title_desc.apply(low_level_preproc)\n",
        "print(title_desc)"
      ]
    },
    {
      "cell_type": "code",
      "execution_count": null,
      "metadata": {
        "colab": {
          "base_uri": "https://localhost:8080/"
        },
        "id": "7-uUQfOqOWGY",
        "outputId": "7eafc757-e0c3-4b90-f441-a6bdba81b459"
      },
      "outputs": [
        {
          "output_type": "stream",
          "name": "stdout",
          "text": [
            "0     gold standard 100 whey protein 2 lb original10...\n",
            "1     enjuag bucal tea tre 500 mlnuestr formul enjua...\n",
            "2     mscar jelly mask hydrating vitamin 1 unmascari...\n",
            "3     vitamin k2vitamin k2 suplement alimentari perm...\n",
            "4     hand grip contadorhand grip ajust fitness blu fit\n",
            "                            ...                        \n",
            "65    lent sol polar 8411a 9ca 6316descripciongener ...\n",
            "66    armazon unofficial unom0063 bb00 5219codig pro...\n",
            "67    lent sol ray ban 2140 90257 5022codig product ...\n",
            "68    lent sol unofficial unsm0014 hhe0 5714descripc...\n",
            "69    lent sol unofficial polariz unsu0083phhe0 5422...\n",
            "Length: 70, dtype: object\n"
          ]
        }
      ],
      "source": [
        "#Procesamiento de Alto Nivel\n",
        "title_desc =title_desc.apply(high_level_preproc)\n",
        "print(title_desc)"
      ]
    },
    {
      "cell_type": "code",
      "execution_count": null,
      "metadata": {
        "colab": {
          "base_uri": "https://localhost:8080/"
        },
        "id": "bX6NQefB7ODx",
        "outputId": "c5b7f73e-8b1d-4a3d-8b52-5951a10003f2"
      },
      "outputs": [
        {
          "output_type": "stream",
          "name": "stdout",
          "text": [
            "Found 1313424 word vectors.\n"
          ]
        }
      ],
      "source": [
        "#LOAD\n",
        "embedding_path=\"embeddings-xs-model.vec\"\n",
        "embeddings_index = {}\n",
        "with open(embedding_path) as f:\n",
        "    #print(f)\n",
        "    for line in f:\n",
        "        #print(line)\n",
        "        word, coefs = line.split(maxsplit=1)\n",
        "        coefs = np.fromstring(coefs, \"f\", sep=\" \")\n",
        "        embeddings_index[word] = coefs\n",
        "\n",
        "print(\"Found %s word vectors.\" % len(embeddings_index))"
      ]
    },
    {
      "cell_type": "code",
      "execution_count": null,
      "metadata": {
        "id": "B5YpRHNWFTX0"
      },
      "outputs": [],
      "source": [
        "# Create an embedding matrix\n",
        "from tensorflow.keras.preprocessing.text import Tokenizer\n",
        "text_list = title_desc.tolist()\n",
        "tokenizer = Tokenizer()\n",
        "tokenizer.fit_on_texts(text_list)\n",
        "vocab_size = len(tokenizer.word_index) + 1"
      ]
    },
    {
      "cell_type": "code",
      "execution_count": null,
      "metadata": {
        "colab": {
          "base_uri": "https://localhost:8080/"
        },
        "id": "3YdPj9Z-_vRa",
        "outputId": "ad070f04-d322-443d-d486-8fb244c9d1e7"
      },
      "outputs": [
        {
          "output_type": "execute_result",
          "data": {
            "text/plain": [
              "1044"
            ]
          },
          "metadata": {},
          "execution_count": 22
        }
      ],
      "source": [
        "vocab_size"
      ]
    },
    {
      "cell_type": "code",
      "source": [
        "embedding_dim = 10\n",
        "embedding_matrix = np.zeros((vocab_size, embedding_dim))\n",
        "for word, i in tokenizer.word_index.items():\n",
        "    embedding_vector = embeddings_index.get(word)\n",
        "    if embedding_vector is not None:\n",
        "        embedding_matrix[i] = embedding_vector"
      ],
      "metadata": {
        "id": "9Jvy5nOWcV_2"
      },
      "execution_count": null,
      "outputs": []
    },
    {
      "cell_type": "code",
      "source": [
        "from tensorflow.keras.preprocessing.sequence import pad_sequences\n",
        "X_text_sequences = tokenizer.texts_to_sequences(text_list)\n",
        "X_text_padded = pad_sequences(X_text_sequences, maxlen=20)"
      ],
      "metadata": {
        "id": "iSbz8JZaKpB2"
      },
      "execution_count": null,
      "outputs": []
    },
    {
      "cell_type": "code",
      "source": [
        "df['textSequence'] = None\n",
        "df['textSequence'] = pd.Series(X_text_padded.tolist())"
      ],
      "metadata": {
        "id": "Czzd8A58PNvQ"
      },
      "execution_count": null,
      "outputs": []
    },
    {
      "cell_type": "code",
      "source": [
        "df['textSequence'].values[1]"
      ],
      "metadata": {
        "colab": {
          "base_uri": "https://localhost:8080/"
        },
        "id": "bVqrDq_FQdeF",
        "outputId": "66d23846-6690-43d3-908d-8b7559c5ba59"
      },
      "execution_count": null,
      "outputs": [
        {
          "output_type": "execute_result",
          "data": {
            "text/plain": [
              "[115,\n",
              " 199,\n",
              " 281,\n",
              " 145,\n",
              " 146,\n",
              " 466,\n",
              " 200,\n",
              " 467,\n",
              " 98,\n",
              " 468,\n",
              " 282,\n",
              " 201,\n",
              " 469,\n",
              " 283,\n",
              " 470,\n",
              " 471,\n",
              " 100,\n",
              " 116,\n",
              " 58,\n",
              " 472]"
            ]
          },
          "metadata": {},
          "execution_count": 26
        }
      ]
    },
    {
      "cell_type": "markdown",
      "metadata": {
        "id": "0siBR2nxeDAz"
      },
      "source": [
        "#SPLIT TRAIN"
      ]
    },
    {
      "cell_type": "code",
      "execution_count": null,
      "metadata": {
        "id": "CsuVaq2od8l6"
      },
      "outputs": [],
      "source": [
        "def split(train):\n",
        "\n",
        "    # Split train to train and validation datasets\n",
        "    # Validation for use during learning\n",
        "    train, val = train_test_split(train, test_size=0.2, random_state=24)\n",
        "\n",
        "    return(train, val)"
      ]
    },
    {
      "cell_type": "markdown",
      "source": [
        "#Create Model"
      ],
      "metadata": {
        "id": "84X1WQGjcu0-"
      }
    },
    {
      "cell_type": "code",
      "source": [
        "from tensorflow_model_optimization.python.core.quantization.keras.quantize_wrapper import QuantizeWrapper\n",
        "from tensorflow_model_optimization.python.core.quantization.keras.quantizers import Quantizer\n",
        "from tensorflow.keras.models import Model, Sequential\n",
        "\n",
        "def buildModel(lstm_units, dense_units, learning_rate):\n",
        "  text_input = Input(shape=(20,), dtype='int32', name='tag')#20 title +description lenght\n",
        "  embedding_layer = Embedding(vocab_size, embedding_dim,weights=[embedding_matrix], trainable=False)(text_input)\n",
        "  text_output = LSTM(64)(embedding_layer)\n",
        "  #text_output = LSTM(64)(embedding_layer)\n",
        "\n",
        "  base_model = Xception(weights='imagenet', include_top=False)\n",
        "  image_input = Input(shape=(299, 299, 3))\n",
        "  x = base_model(image_input)\n",
        "  x = Flatten()(x)\n",
        "  x = Dense(128, activation='relu')(x)\n",
        "  #x = Dense(128, activation='relu')(x)\n",
        "  image_output = Dense(64, activation='relu')(x)\n",
        "  concatenated = concatenate([image_output, text_output])\n",
        "  output = Dense(1, activation='sigmoid')(concatenated)\n",
        "  x = Dense(64, activation='relu')(concatenated)\n",
        "  output = Dense(3, activation='softmax')(x)\n",
        "\n",
        "  # Create the model\n",
        "  model = Model(inputs=[image_input, text_input], outputs=output)\n",
        "  if quantization_used:\n",
        "    # Convert functional model to sequential model\n",
        "    sequential_model = Sequential()\n",
        "    for layer in model.layers:\n",
        "        sequential_model.add(layer)\n",
        "    # Apply quantization to specific layers\n",
        "    quantize_annotate_layer = tfmot.quantization.keras.quantize_annotate_layer\n",
        "    quantize_apply = tfmot.quantization.keras.quantize_apply\n",
        "\n",
        "    annotated_model = quantize_annotate_layer(model)\n",
        "\n",
        "    for layer in annotated_model.layers:\n",
        "        if isinstance(layer, tf.keras.layers.Conv2D) or isinstance(layer, tf.keras.layers.Dense):\n",
        "            quantized_layer = quantize_apply(layer)\n",
        "            layer.set_weights(quantized_layer.get_weights())\n",
        "\n",
        "  model = pruneModel(model)\n",
        "  optimizer = tf.keras.optimizers.Adam(learning_rate=learning_rate)\n",
        "  model.compile(optimizer=optimizer, loss='categorical_crossentropy', metrics=['accuracy'])\n",
        "  return model"
      ],
      "metadata": {
        "id": "NSE2oY-2CW3q"
      },
      "execution_count": null,
      "outputs": []
    },
    {
      "cell_type": "code",
      "source": [
        "def buildModelRandomSearch(hp):\n",
        "  text_input = Input(shape=(20,), dtype='int32', name='tag')#20 title +description lenght\n",
        "  embedding_layer = Embedding(vocab_size, embedding_dim,weights=[embedding_matrix], trainable=False)(text_input)\n",
        "  text_output = LSTM(64)(embedding_layer)\n",
        "\n",
        "  base_model = Xception(weights='imagenet', include_top=False)\n",
        "  image_input = Input(shape=(299, 299, 3))\n",
        "  x = base_model(image_input)\n",
        "  x = Flatten()(x)\n",
        "  x = Dense(128, activation='relu')(x)\n",
        "\n",
        "  image_output = Dense(64, activation='relu')(x)\n",
        "  concatenated = concatenate([image_output, text_output])\n",
        "  output = Dense(1, activation='sigmoid')(concatenated)\n",
        "  x = Dense(64, activation='relu')(concatenated)\n",
        "  output = Dense(3, activation='softmax')(x)\n",
        "\n",
        "  # Create the model\n",
        "  model = Model(inputs=[image_input, text_input], outputs=output)\n",
        "  print(\"Here\")\n",
        "  model = pruneModel(model)\n",
        "  # Define the learning rate\n",
        "  hp_learning_rate = hp.Choice('learning_rate', values=[1e-3, 1e-4, 1e-5])\n",
        "  optimizer = tf.keras.optimizers.Adam(learning_rate=hp_learning_rate)\n",
        "  model.compile(optimizer=optimizer, loss='categorical_crossentropy', metrics=['accuracy'])\n",
        "  return model"
      ],
      "metadata": {
        "id": "o7-GLuzP4BWH"
      },
      "execution_count": null,
      "outputs": []
    },
    {
      "cell_type": "markdown",
      "source": [
        "## Pruning"
      ],
      "metadata": {
        "id": "lNDdeomld8Qw"
      }
    },
    {
      "cell_type": "code",
      "source": [
        "def pruneModel(model):\n",
        "  if pruning_used:\n",
        "    print(\"Pruning Params\")\n",
        "    pruning_params = {\n",
        "        #50% of the weights will be pruned, at the beginning step (0)\n",
        "        'pruning_schedule': tfmot.sparsity.keras.ConstantSparsity(0.5, 0),\n",
        "        #indicates that individual weights are pruned\n",
        "        'block_size': (1, 1),\n",
        "        #average pooling is performed\n",
        "        'block_pooling_type': 'AVG'\n",
        "    }\n",
        "    model = tfmot.sparsity.keras.prune_low_magnitude(model, **pruning_params)\n",
        "  return model\n"
      ],
      "metadata": {
        "id": "LmgpyK89d5EJ"
      },
      "execution_count": null,
      "outputs": []
    },
    {
      "cell_type": "markdown",
      "source": [
        "## Compile Model"
      ],
      "metadata": {
        "id": "jR-NqRzWdx_4"
      }
    },
    {
      "cell_type": "code",
      "source": [
        "#model.compile(optimizer=Adam(), loss='categorical_crossentropy', metrics=['accuracy'])"
      ],
      "metadata": {
        "id": "LF5DZz7_d1eo"
      },
      "execution_count": null,
      "outputs": []
    },
    {
      "cell_type": "markdown",
      "source": [
        "# Train the model"
      ],
      "metadata": {
        "id": "MRKonbgmy7mk"
      }
    },
    {
      "cell_type": "code",
      "source": [
        "train, val = split(df)\n",
        "print(f\"DataSet Original:{len(df)}, Train:{len(train)},Validation:{len(val)}\")"
      ],
      "metadata": {
        "colab": {
          "base_uri": "https://localhost:8080/"
        },
        "id": "dTMyeqPBznT6",
        "outputId": "bfaf508c-4d89-4039-9214-8899bf73479e"
      },
      "execution_count": null,
      "outputs": [
        {
          "output_type": "stream",
          "name": "stdout",
          "text": [
            "DataSet Original:70, Train:56,Validation:14\n"
          ]
        }
      ]
    },
    {
      "cell_type": "code",
      "source": [
        "train"
      ],
      "metadata": {
        "id": "bjbFbUEmSMaW"
      },
      "execution_count": null,
      "outputs": []
    },
    {
      "cell_type": "code",
      "source": [
        "num_classes = len(df['store'].unique())\n",
        "print(num_classes)"
      ],
      "metadata": {
        "colab": {
          "base_uri": "https://localhost:8080/"
        },
        "id": "adl8z92T3jDp",
        "outputId": "52dbd8e6-4673-4bcc-e7f9-a8bb333d9a18"
      },
      "execution_count": null,
      "outputs": [
        {
          "output_type": "stream",
          "name": "stdout",
          "text": [
            "3\n"
          ]
        }
      ]
    },
    {
      "cell_type": "code",
      "source": [
        "trainImages = addImagesToDataSet(train)\n",
        "textSequence = train['textSequence']\n",
        "stores =  train['store']"
      ],
      "metadata": {
        "id": "mT_2s8WvA7y-"
      },
      "execution_count": null,
      "outputs": []
    },
    {
      "cell_type": "markdown",
      "source": [
        "## Data Augmentation"
      ],
      "metadata": {
        "id": "7DgOf2rtNx1D"
      }
    },
    {
      "cell_type": "code",
      "source": [
        "if data_augmentation_used:\n",
        "\n",
        "  augmentedImages = dataAugmentation(trainImages)\n",
        "  trainImages = trainImages + augmentedImages\n",
        "\n",
        "  # Duplicate textSequence & stores train values (we asume 1 augmented image per row)\n",
        "  textSequence = pd.concat([textSequence] * 2, ignore_index=True)\n",
        "  stores = pd.concat([stores] * 2, ignore_index=True)\n",
        "  print(\"Data Augmentation Applied\")\n",
        "\n",
        "print(len(trainImages))"
      ],
      "metadata": {
        "colab": {
          "base_uri": "https://localhost:8080/"
        },
        "id": "srWwhqQRsHol",
        "outputId": "4f0bb308-df7b-4cff-c160-44c85800f8b7"
      },
      "execution_count": null,
      "outputs": [
        {
          "output_type": "stream",
          "name": "stdout",
          "text": [
            "56\n"
          ]
        }
      ]
    },
    {
      "cell_type": "markdown",
      "source": [
        "## Assign X_train, Y_train, X_Test, Y_Test"
      ],
      "metadata": {
        "id": "qaB9VCQmNWPl"
      }
    },
    {
      "cell_type": "code",
      "source": [
        "X_train_images = np.concatenate(trainImages, axis=0)\n",
        "X_train_text = tf.convert_to_tensor(textSequence.tolist())\n",
        "y_train = to_categorical(stores.astype(int).values, num_classes)\n",
        "\n",
        "X_test_images = np.concatenate(addImagesToDataSet(val), axis=0)\n",
        "X_test_text = tf.convert_to_tensor(val['textSequence'].tolist())\n",
        "y_test = to_categorical(val['store'].astype(int).values, num_classes)"
      ],
      "metadata": {
        "id": "Fz98nfhO0HGz"
      },
      "execution_count": null,
      "outputs": []
    },
    {
      "cell_type": "markdown",
      "source": [
        "## Model Fit"
      ],
      "metadata": {
        "id": "O__M4SBnNguP"
      }
    },
    {
      "cell_type": "code",
      "source": [
        "print(len(y_train))"
      ],
      "metadata": {
        "colab": {
          "base_uri": "https://localhost:8080/"
        },
        "id": "F-HrZ4oVWC3_",
        "outputId": "1eeaa3d8-9ec6-4894-f376-f115f763f1fe"
      },
      "execution_count": null,
      "outputs": [
        {
          "output_type": "stream",
          "name": "stdout",
          "text": [
            "56\n"
          ]
        }
      ]
    },
    {
      "cell_type": "code",
      "source": [
        "#pip install scikeras"
      ],
      "metadata": {
        "id": "dvmOaC9keNYD"
      },
      "execution_count": null,
      "outputs": []
    },
    {
      "cell_type": "code",
      "source": [
        "print(X_train_images.shape)  # Should be (56, 299, 299, 3)\n",
        "print(X_train_text.shape)    # Should be (56, 20)\n",
        "print(y_train.shape)\n",
        "pruning_used"
      ],
      "metadata": {
        "colab": {
          "base_uri": "https://localhost:8080/"
        },
        "id": "tSEWEH9XjcgT",
        "outputId": "54f46045-ec07-4672-8410-6aa78524b476"
      },
      "execution_count": null,
      "outputs": [
        {
          "output_type": "stream",
          "name": "stdout",
          "text": [
            "(56, 299, 299, 3)\n",
            "(56, 20)\n",
            "(56, 3)\n"
          ]
        },
        {
          "output_type": "execute_result",
          "data": {
            "text/plain": [
              "False"
            ]
          },
          "metadata": {},
          "execution_count": 38
        }
      ]
    },
    {
      "cell_type": "code",
      "source": [
        "pip install keras-tuner --upgrade"
      ],
      "metadata": {
        "id": "i3lo9k8G1ZfI"
      },
      "execution_count": null,
      "outputs": []
    },
    {
      "cell_type": "code",
      "source": [
        "quantization_used = False"
      ],
      "metadata": {
        "id": "kHNEM-K8SdzB"
      },
      "execution_count": null,
      "outputs": []
    },
    {
      "cell_type": "code",
      "source": [
        "from kerastuner.tuners import RandomSearch\n",
        "\n",
        "common_args = ([X_train_images, X_train_text], y_train)\n",
        "common_kwargs = {'epochs': 8, 'validation_data': ([X_test_images, X_test_text], y_test)}\n",
        "\n",
        "if pruning_used:\n",
        "    print(\"Pruning Training\")\n",
        "    # Create the pruning step callback\n",
        "    pruning_callbacks = [sparsity.UpdatePruningStep()]\n",
        "    model = buildModel(64, 128,  0.001)\n",
        "    history = model.fit(*common_args, **common_kwargs, callbacks=pruning_callbacks)\n",
        "\n",
        "elif grid_search_used:\n",
        "    # Create a tuner\n",
        "    tuner = RandomSearch(\n",
        "    buildModelRandomSearch,\n",
        "    objective='val_accuracy',\n",
        "    max_trials=2,  # Number of hyperparameter combinations to try\n",
        "    executions_per_trial=3,  # Number of models to train for each trial\n",
        "    )\n",
        "\n",
        "    # Perform the hyperparameter search\n",
        "    tuner.search([X_train_images, X_train_text], y_train, validation_data=([X_test_images, X_test_text], y_test), epochs=5)\n",
        "\n",
        "    # Get the best hyperparameters\n",
        "    best_hyperparameters = tuner.get_best_hyperparameters(num_trials=1)[0]\n",
        "\n",
        "    # Build the best model with the best hyperparameters\n",
        "    best_model = tuner.hypermodel.build(best_hyperparameters)\n",
        "\n",
        "    print(f\"Test Loss: {loss}, Test Accuracy: {accuracy}\")\n",
        "\n",
        "    #print(f\"Grid Search: Accuracy {accuracy}, Best Params:{best_params}\")\n",
        "else:\n",
        "    model = buildModel(64, 128,  0.001)\n",
        "    history = model.fit(*common_args, **common_kwargs)"
      ],
      "metadata": {
        "colab": {
          "base_uri": "https://localhost:8080/",
          "height": 363
        },
        "id": "sN0ki8SmywGU",
        "outputId": "9e5d9f8a-b698-4ba3-d449-8b851aed1208"
      },
      "execution_count": null,
      "outputs": [
        {
          "output_type": "stream",
          "name": "stdout",
          "text": [
            "Epoch 1/8\n"
          ]
        },
        {
          "output_type": "error",
          "ename": "KeyboardInterrupt",
          "evalue": "ignored",
          "traceback": [
            "\u001b[0;31m---------------------------------------------------------------------------\u001b[0m",
            "\u001b[0;31mKeyboardInterrupt\u001b[0m                         Traceback (most recent call last)",
            "\u001b[0;32m<ipython-input-55-19e4395f58fa>\u001b[0m in \u001b[0;36m<cell line: 6>\u001b[0;34m()\u001b[0m\n\u001b[1;32m     34\u001b[0m \u001b[0;32melse\u001b[0m\u001b[0;34m:\u001b[0m\u001b[0;34m\u001b[0m\u001b[0;34m\u001b[0m\u001b[0m\n\u001b[1;32m     35\u001b[0m     \u001b[0mmodel\u001b[0m \u001b[0;34m=\u001b[0m \u001b[0mbuildModel\u001b[0m\u001b[0;34m(\u001b[0m\u001b[0;36m64\u001b[0m\u001b[0;34m,\u001b[0m \u001b[0;36m128\u001b[0m\u001b[0;34m,\u001b[0m  \u001b[0;36m0.001\u001b[0m\u001b[0;34m)\u001b[0m\u001b[0;34m\u001b[0m\u001b[0;34m\u001b[0m\u001b[0m\n\u001b[0;32m---> 36\u001b[0;31m     \u001b[0mhistory\u001b[0m \u001b[0;34m=\u001b[0m \u001b[0mmodel\u001b[0m\u001b[0;34m.\u001b[0m\u001b[0mfit\u001b[0m\u001b[0;34m(\u001b[0m\u001b[0;34m*\u001b[0m\u001b[0mcommon_args\u001b[0m\u001b[0;34m,\u001b[0m \u001b[0;34m**\u001b[0m\u001b[0mcommon_kwargs\u001b[0m\u001b[0;34m)\u001b[0m\u001b[0;34m\u001b[0m\u001b[0;34m\u001b[0m\u001b[0m\n\u001b[0m",
            "\u001b[0;32m/usr/local/lib/python3.10/dist-packages/keras/utils/traceback_utils.py\u001b[0m in \u001b[0;36merror_handler\u001b[0;34m(*args, **kwargs)\u001b[0m\n\u001b[1;32m     63\u001b[0m         \u001b[0mfiltered_tb\u001b[0m \u001b[0;34m=\u001b[0m \u001b[0;32mNone\u001b[0m\u001b[0;34m\u001b[0m\u001b[0;34m\u001b[0m\u001b[0m\n\u001b[1;32m     64\u001b[0m         \u001b[0;32mtry\u001b[0m\u001b[0;34m:\u001b[0m\u001b[0;34m\u001b[0m\u001b[0;34m\u001b[0m\u001b[0m\n\u001b[0;32m---> 65\u001b[0;31m             \u001b[0;32mreturn\u001b[0m \u001b[0mfn\u001b[0m\u001b[0;34m(\u001b[0m\u001b[0;34m*\u001b[0m\u001b[0margs\u001b[0m\u001b[0;34m,\u001b[0m \u001b[0;34m**\u001b[0m\u001b[0mkwargs\u001b[0m\u001b[0;34m)\u001b[0m\u001b[0;34m\u001b[0m\u001b[0;34m\u001b[0m\u001b[0m\n\u001b[0m\u001b[1;32m     66\u001b[0m         \u001b[0;32mexcept\u001b[0m \u001b[0mException\u001b[0m \u001b[0;32mas\u001b[0m \u001b[0me\u001b[0m\u001b[0;34m:\u001b[0m\u001b[0;34m\u001b[0m\u001b[0;34m\u001b[0m\u001b[0m\n\u001b[1;32m     67\u001b[0m             \u001b[0mfiltered_tb\u001b[0m \u001b[0;34m=\u001b[0m \u001b[0m_process_traceback_frames\u001b[0m\u001b[0;34m(\u001b[0m\u001b[0me\u001b[0m\u001b[0;34m.\u001b[0m\u001b[0m__traceback__\u001b[0m\u001b[0;34m)\u001b[0m\u001b[0;34m\u001b[0m\u001b[0;34m\u001b[0m\u001b[0m\n",
            "\u001b[0;32m/usr/local/lib/python3.10/dist-packages/keras/engine/training.py\u001b[0m in \u001b[0;36mfit\u001b[0;34m(self, x, y, batch_size, epochs, verbose, callbacks, validation_split, validation_data, shuffle, class_weight, sample_weight, initial_epoch, steps_per_epoch, validation_steps, validation_batch_size, validation_freq, max_queue_size, workers, use_multiprocessing)\u001b[0m\n\u001b[1;32m   1683\u001b[0m                         ):\n\u001b[1;32m   1684\u001b[0m                             \u001b[0mcallbacks\u001b[0m\u001b[0;34m.\u001b[0m\u001b[0mon_train_batch_begin\u001b[0m\u001b[0;34m(\u001b[0m\u001b[0mstep\u001b[0m\u001b[0;34m)\u001b[0m\u001b[0;34m\u001b[0m\u001b[0;34m\u001b[0m\u001b[0m\n\u001b[0;32m-> 1685\u001b[0;31m                             \u001b[0mtmp_logs\u001b[0m \u001b[0;34m=\u001b[0m \u001b[0mself\u001b[0m\u001b[0;34m.\u001b[0m\u001b[0mtrain_function\u001b[0m\u001b[0;34m(\u001b[0m\u001b[0miterator\u001b[0m\u001b[0;34m)\u001b[0m\u001b[0;34m\u001b[0m\u001b[0;34m\u001b[0m\u001b[0m\n\u001b[0m\u001b[1;32m   1686\u001b[0m                             \u001b[0;32mif\u001b[0m \u001b[0mdata_handler\u001b[0m\u001b[0;34m.\u001b[0m\u001b[0mshould_sync\u001b[0m\u001b[0;34m:\u001b[0m\u001b[0;34m\u001b[0m\u001b[0;34m\u001b[0m\u001b[0m\n\u001b[1;32m   1687\u001b[0m                                 \u001b[0mcontext\u001b[0m\u001b[0;34m.\u001b[0m\u001b[0masync_wait\u001b[0m\u001b[0;34m(\u001b[0m\u001b[0;34m)\u001b[0m\u001b[0;34m\u001b[0m\u001b[0;34m\u001b[0m\u001b[0m\n",
            "\u001b[0;32m/usr/local/lib/python3.10/dist-packages/tensorflow/python/util/traceback_utils.py\u001b[0m in \u001b[0;36merror_handler\u001b[0;34m(*args, **kwargs)\u001b[0m\n\u001b[1;32m    148\u001b[0m     \u001b[0mfiltered_tb\u001b[0m \u001b[0;34m=\u001b[0m \u001b[0;32mNone\u001b[0m\u001b[0;34m\u001b[0m\u001b[0;34m\u001b[0m\u001b[0m\n\u001b[1;32m    149\u001b[0m     \u001b[0;32mtry\u001b[0m\u001b[0;34m:\u001b[0m\u001b[0;34m\u001b[0m\u001b[0;34m\u001b[0m\u001b[0m\n\u001b[0;32m--> 150\u001b[0;31m       \u001b[0;32mreturn\u001b[0m \u001b[0mfn\u001b[0m\u001b[0;34m(\u001b[0m\u001b[0;34m*\u001b[0m\u001b[0margs\u001b[0m\u001b[0;34m,\u001b[0m \u001b[0;34m**\u001b[0m\u001b[0mkwargs\u001b[0m\u001b[0;34m)\u001b[0m\u001b[0;34m\u001b[0m\u001b[0;34m\u001b[0m\u001b[0m\n\u001b[0m\u001b[1;32m    151\u001b[0m     \u001b[0;32mexcept\u001b[0m \u001b[0mException\u001b[0m \u001b[0;32mas\u001b[0m \u001b[0me\u001b[0m\u001b[0;34m:\u001b[0m\u001b[0;34m\u001b[0m\u001b[0;34m\u001b[0m\u001b[0m\n\u001b[1;32m    152\u001b[0m       \u001b[0mfiltered_tb\u001b[0m \u001b[0;34m=\u001b[0m \u001b[0m_process_traceback_frames\u001b[0m\u001b[0;34m(\u001b[0m\u001b[0me\u001b[0m\u001b[0;34m.\u001b[0m\u001b[0m__traceback__\u001b[0m\u001b[0;34m)\u001b[0m\u001b[0;34m\u001b[0m\u001b[0;34m\u001b[0m\u001b[0m\n",
            "\u001b[0;32m/usr/local/lib/python3.10/dist-packages/tensorflow/python/eager/polymorphic_function/polymorphic_function.py\u001b[0m in \u001b[0;36m__call__\u001b[0;34m(self, *args, **kwds)\u001b[0m\n\u001b[1;32m    892\u001b[0m \u001b[0;34m\u001b[0m\u001b[0m\n\u001b[1;32m    893\u001b[0m       \u001b[0;32mwith\u001b[0m \u001b[0mOptionalXlaContext\u001b[0m\u001b[0;34m(\u001b[0m\u001b[0mself\u001b[0m\u001b[0;34m.\u001b[0m\u001b[0m_jit_compile\u001b[0m\u001b[0;34m)\u001b[0m\u001b[0;34m:\u001b[0m\u001b[0;34m\u001b[0m\u001b[0;34m\u001b[0m\u001b[0m\n\u001b[0;32m--> 894\u001b[0;31m         \u001b[0mresult\u001b[0m \u001b[0;34m=\u001b[0m \u001b[0mself\u001b[0m\u001b[0;34m.\u001b[0m\u001b[0m_call\u001b[0m\u001b[0;34m(\u001b[0m\u001b[0;34m*\u001b[0m\u001b[0margs\u001b[0m\u001b[0;34m,\u001b[0m \u001b[0;34m**\u001b[0m\u001b[0mkwds\u001b[0m\u001b[0;34m)\u001b[0m\u001b[0;34m\u001b[0m\u001b[0;34m\u001b[0m\u001b[0m\n\u001b[0m\u001b[1;32m    895\u001b[0m \u001b[0;34m\u001b[0m\u001b[0m\n\u001b[1;32m    896\u001b[0m       \u001b[0mnew_tracing_count\u001b[0m \u001b[0;34m=\u001b[0m \u001b[0mself\u001b[0m\u001b[0;34m.\u001b[0m\u001b[0mexperimental_get_tracing_count\u001b[0m\u001b[0;34m(\u001b[0m\u001b[0;34m)\u001b[0m\u001b[0;34m\u001b[0m\u001b[0;34m\u001b[0m\u001b[0m\n",
            "\u001b[0;32m/usr/local/lib/python3.10/dist-packages/tensorflow/python/eager/polymorphic_function/polymorphic_function.py\u001b[0m in \u001b[0;36m_call\u001b[0;34m(self, *args, **kwds)\u001b[0m\n\u001b[1;32m    957\u001b[0m         \u001b[0;31m# Lifting succeeded, so variables are initialized and we can run the\u001b[0m\u001b[0;34m\u001b[0m\u001b[0;34m\u001b[0m\u001b[0m\n\u001b[1;32m    958\u001b[0m         \u001b[0;31m# no_variable_creation function.\u001b[0m\u001b[0;34m\u001b[0m\u001b[0;34m\u001b[0m\u001b[0m\n\u001b[0;32m--> 959\u001b[0;31m         \u001b[0;32mreturn\u001b[0m \u001b[0mself\u001b[0m\u001b[0;34m.\u001b[0m\u001b[0m_no_variable_creation_fn\u001b[0m\u001b[0;34m(\u001b[0m\u001b[0;34m*\u001b[0m\u001b[0margs\u001b[0m\u001b[0;34m,\u001b[0m \u001b[0;34m**\u001b[0m\u001b[0mkwds\u001b[0m\u001b[0;34m)\u001b[0m\u001b[0;34m\u001b[0m\u001b[0;34m\u001b[0m\u001b[0m\n\u001b[0m\u001b[1;32m    960\u001b[0m     \u001b[0;32melse\u001b[0m\u001b[0;34m:\u001b[0m\u001b[0;34m\u001b[0m\u001b[0;34m\u001b[0m\u001b[0m\n\u001b[1;32m    961\u001b[0m       _, _, filtered_flat_args = (\n",
            "\u001b[0;32m/usr/local/lib/python3.10/dist-packages/tensorflow/python/eager/polymorphic_function/tracing_compiler.py\u001b[0m in \u001b[0;36m__call__\u001b[0;34m(self, *args, **kwargs)\u001b[0m\n\u001b[1;32m    141\u001b[0m       (concrete_function,\n\u001b[1;32m    142\u001b[0m        filtered_flat_args) = self._maybe_define_function(args, kwargs)\n\u001b[0;32m--> 143\u001b[0;31m     return concrete_function._call_flat(\n\u001b[0m\u001b[1;32m    144\u001b[0m         filtered_flat_args, captured_inputs=concrete_function.captured_inputs)  # pylint: disable=protected-access\n\u001b[1;32m    145\u001b[0m \u001b[0;34m\u001b[0m\u001b[0m\n",
            "\u001b[0;32m/usr/local/lib/python3.10/dist-packages/tensorflow/python/eager/polymorphic_function/monomorphic_function.py\u001b[0m in \u001b[0;36m_call_flat\u001b[0;34m(self, args, captured_inputs, cancellation_manager)\u001b[0m\n\u001b[1;32m   1755\u001b[0m         and executing_eagerly):\n\u001b[1;32m   1756\u001b[0m       \u001b[0;31m# No tape is watching; skip to running the function.\u001b[0m\u001b[0;34m\u001b[0m\u001b[0;34m\u001b[0m\u001b[0m\n\u001b[0;32m-> 1757\u001b[0;31m       return self._build_call_outputs(self._inference_function.call(\n\u001b[0m\u001b[1;32m   1758\u001b[0m           ctx, args, cancellation_manager=cancellation_manager))\n\u001b[1;32m   1759\u001b[0m     forward_backward = self._select_forward_and_backward_functions(\n",
            "\u001b[0;32m/usr/local/lib/python3.10/dist-packages/tensorflow/python/eager/polymorphic_function/monomorphic_function.py\u001b[0m in \u001b[0;36mcall\u001b[0;34m(self, ctx, args, cancellation_manager)\u001b[0m\n\u001b[1;32m    379\u001b[0m       \u001b[0;32mwith\u001b[0m \u001b[0m_InterpolateFunctionError\u001b[0m\u001b[0;34m(\u001b[0m\u001b[0mself\u001b[0m\u001b[0;34m)\u001b[0m\u001b[0;34m:\u001b[0m\u001b[0;34m\u001b[0m\u001b[0;34m\u001b[0m\u001b[0m\n\u001b[1;32m    380\u001b[0m         \u001b[0;32mif\u001b[0m \u001b[0mcancellation_manager\u001b[0m \u001b[0;32mis\u001b[0m \u001b[0;32mNone\u001b[0m\u001b[0;34m:\u001b[0m\u001b[0;34m\u001b[0m\u001b[0;34m\u001b[0m\u001b[0m\n\u001b[0;32m--> 381\u001b[0;31m           outputs = execute.execute(\n\u001b[0m\u001b[1;32m    382\u001b[0m               \u001b[0mstr\u001b[0m\u001b[0;34m(\u001b[0m\u001b[0mself\u001b[0m\u001b[0;34m.\u001b[0m\u001b[0msignature\u001b[0m\u001b[0;34m.\u001b[0m\u001b[0mname\u001b[0m\u001b[0;34m)\u001b[0m\u001b[0;34m,\u001b[0m\u001b[0;34m\u001b[0m\u001b[0;34m\u001b[0m\u001b[0m\n\u001b[1;32m    383\u001b[0m               \u001b[0mnum_outputs\u001b[0m\u001b[0;34m=\u001b[0m\u001b[0mself\u001b[0m\u001b[0;34m.\u001b[0m\u001b[0m_num_outputs\u001b[0m\u001b[0;34m,\u001b[0m\u001b[0;34m\u001b[0m\u001b[0;34m\u001b[0m\u001b[0m\n",
            "\u001b[0;32m/usr/local/lib/python3.10/dist-packages/tensorflow/python/eager/execute.py\u001b[0m in \u001b[0;36mquick_execute\u001b[0;34m(op_name, num_outputs, inputs, attrs, ctx, name)\u001b[0m\n\u001b[1;32m     50\u001b[0m   \u001b[0;32mtry\u001b[0m\u001b[0;34m:\u001b[0m\u001b[0;34m\u001b[0m\u001b[0;34m\u001b[0m\u001b[0m\n\u001b[1;32m     51\u001b[0m     \u001b[0mctx\u001b[0m\u001b[0;34m.\u001b[0m\u001b[0mensure_initialized\u001b[0m\u001b[0;34m(\u001b[0m\u001b[0;34m)\u001b[0m\u001b[0;34m\u001b[0m\u001b[0;34m\u001b[0m\u001b[0m\n\u001b[0;32m---> 52\u001b[0;31m     tensors = pywrap_tfe.TFE_Py_Execute(ctx._handle, device_name, op_name,\n\u001b[0m\u001b[1;32m     53\u001b[0m                                         inputs, attrs, num_outputs)\n\u001b[1;32m     54\u001b[0m   \u001b[0;32mexcept\u001b[0m \u001b[0mcore\u001b[0m\u001b[0;34m.\u001b[0m\u001b[0m_NotOkStatusException\u001b[0m \u001b[0;32mas\u001b[0m \u001b[0me\u001b[0m\u001b[0;34m:\u001b[0m\u001b[0;34m\u001b[0m\u001b[0;34m\u001b[0m\u001b[0m\n",
            "\u001b[0;31mKeyboardInterrupt\u001b[0m: "
          ]
        }
      ]
    },
    {
      "cell_type": "markdown",
      "source": [
        "#Plot"
      ],
      "metadata": {
        "id": "9NhVHw362kDr"
      }
    },
    {
      "cell_type": "code",
      "source": [
        "import matplotlib.pyplot as plt\n",
        "\n",
        "# Access the training history\n",
        "train_loss = history.history['loss']\n",
        "train_accuracy = history.history['accuracy']\n",
        "val_loss = history.history['val_loss']\n",
        "val_accuracy = history.history['val_accuracy']\n",
        "epochs = range(1, len(train_loss) + 1)\n",
        "\n",
        "# Plot the training and validation loss\n",
        "plt.figure(figsize=(12, 6))\n",
        "plt.subplot(1, 2, 1)\n",
        "plt.plot(epochs, train_loss, 'b-', label='Training Loss')\n",
        "plt.plot(epochs, val_loss, 'r-', label='Validation Loss')\n",
        "plt.title('Training and Validation Loss')\n",
        "plt.xlabel('Epochs')\n",
        "plt.ylabel('Loss')\n",
        "plt.legend()\n",
        "\n",
        "# Plot the training and validation accuracy\n",
        "plt.subplot(1, 2, 2)\n",
        "plt.plot(epochs, train_accuracy, 'b-', label='Training Accuracy')\n",
        "plt.plot(epochs, val_accuracy, 'r-', label='Validation Accuracy')\n",
        "plt.title('Training and Validation Accuracy')\n",
        "plt.xlabel('Epochs')\n",
        "plt.ylabel('Accuracy')\n",
        "plt.legend()\n",
        "\n",
        "# Display the plots\n",
        "plt.tight_layout()\n",
        "plt.show()"
      ],
      "metadata": {
        "colab": {
          "base_uri": "https://localhost:8080/"
        },
        "id": "57CW4Dtj2iG8",
        "outputId": "04d7b67d-93b3-4a9f-c7a5-50cfc9804798"
      },
      "execution_count": null,
      "outputs": [
        {
          "output_type": "display_data",
          "data": {
            "text/plain": [
              "<Figure size 1200x600 with 2 Axes>"
            ],
            "image/png": "[encoded data removed]"
          },
          "metadata": {}
        }
      ]
    },
    {
      "cell_type": "markdown",
      "source": [
        "# Save Model"
      ],
      "metadata": {
        "id": "ti5TcTqI7MBb"
      }
    },
    {
      "cell_type": "code",
      "source": [
        "model.save('model3.h5')"
      ],
      "metadata": {
        "id": "6KBVLc3y2pc8",
        "colab": {
          "base_uri": "https://localhost:8080/",
          "height": 432
        },
        "outputId": "9c3fcd5b-de72-46f3-94eb-be5f69b3df1b"
      },
      "execution_count": null,
      "outputs": [
        {
          "output_type": "error",
          "ename": "ValueError",
          "evalue": "ignored",
          "traceback": [
            "\u001b[0;31m---------------------------------------------------------------------------\u001b[0m",
            "\u001b[0;31mValueError\u001b[0m                                Traceback (most recent call last)",
            "\u001b[0;32m<ipython-input-40-dd4d299bd90b>\u001b[0m in \u001b[0;36m<cell line: 1>\u001b[0;34m()\u001b[0m\n\u001b[0;32m----> 1\u001b[0;31m \u001b[0mmodel\u001b[0m\u001b[0;34m.\u001b[0m\u001b[0msave\u001b[0m\u001b[0;34m(\u001b[0m\u001b[0;34m'model3.h5'\u001b[0m\u001b[0;34m)\u001b[0m\u001b[0;34m\u001b[0m\u001b[0;34m\u001b[0m\u001b[0m\n\u001b[0m",
            "\u001b[0;32m/usr/local/lib/python3.10/dist-packages/keras/utils/traceback_utils.py\u001b[0m in \u001b[0;36merror_handler\u001b[0;34m(*args, **kwargs)\u001b[0m\n\u001b[1;32m     68\u001b[0m             \u001b[0;31m# To get the full stack trace, call:\u001b[0m\u001b[0;34m\u001b[0m\u001b[0;34m\u001b[0m\u001b[0m\n\u001b[1;32m     69\u001b[0m             \u001b[0;31m# `tf.debugging.disable_traceback_filtering()`\u001b[0m\u001b[0;34m\u001b[0m\u001b[0;34m\u001b[0m\u001b[0m\n\u001b[0;32m---> 70\u001b[0;31m             \u001b[0;32mraise\u001b[0m \u001b[0me\u001b[0m\u001b[0;34m.\u001b[0m\u001b[0mwith_traceback\u001b[0m\u001b[0;34m(\u001b[0m\u001b[0mfiltered_tb\u001b[0m\u001b[0;34m)\u001b[0m \u001b[0;32mfrom\u001b[0m \u001b[0;32mNone\u001b[0m\u001b[0;34m\u001b[0m\u001b[0;34m\u001b[0m\u001b[0m\n\u001b[0m\u001b[1;32m     71\u001b[0m         \u001b[0;32mfinally\u001b[0m\u001b[0;34m:\u001b[0m\u001b[0;34m\u001b[0m\u001b[0;34m\u001b[0m\u001b[0m\n\u001b[1;32m     72\u001b[0m             \u001b[0;32mdel\u001b[0m \u001b[0mfiltered_tb\u001b[0m\u001b[0;34m\u001b[0m\u001b[0;34m\u001b[0m\u001b[0m\n",
            "\u001b[0;32m/usr/local/lib/python3.10/dist-packages/h5py/_hl/group.py\u001b[0m in \u001b[0;36mcreate_dataset\u001b[0;34m(self, name, shape, dtype, data, **kwds)\u001b[0m\n\u001b[1;32m    181\u001b[0m                     \u001b[0mgroup\u001b[0m \u001b[0;34m=\u001b[0m \u001b[0mself\u001b[0m\u001b[0;34m.\u001b[0m\u001b[0mrequire_group\u001b[0m\u001b[0;34m(\u001b[0m\u001b[0mparent_path\u001b[0m\u001b[0;34m)\u001b[0m\u001b[0;34m\u001b[0m\u001b[0;34m\u001b[0m\u001b[0m\n\u001b[1;32m    182\u001b[0m \u001b[0;34m\u001b[0m\u001b[0m\n\u001b[0;32m--> 183\u001b[0;31m             \u001b[0mdsid\u001b[0m \u001b[0;34m=\u001b[0m \u001b[0mdataset\u001b[0m\u001b[0;34m.\u001b[0m\u001b[0mmake_new_dset\u001b[0m\u001b[0;34m(\u001b[0m\u001b[0mgroup\u001b[0m\u001b[0;34m,\u001b[0m \u001b[0mshape\u001b[0m\u001b[0;34m,\u001b[0m \u001b[0mdtype\u001b[0m\u001b[0;34m,\u001b[0m \u001b[0mdata\u001b[0m\u001b[0;34m,\u001b[0m \u001b[0mname\u001b[0m\u001b[0;34m,\u001b[0m \u001b[0;34m**\u001b[0m\u001b[0mkwds\u001b[0m\u001b[0;34m)\u001b[0m\u001b[0;34m\u001b[0m\u001b[0;34m\u001b[0m\u001b[0m\n\u001b[0m\u001b[1;32m    184\u001b[0m             \u001b[0mdset\u001b[0m \u001b[0;34m=\u001b[0m \u001b[0mdataset\u001b[0m\u001b[0;34m.\u001b[0m\u001b[0mDataset\u001b[0m\u001b[0;34m(\u001b[0m\u001b[0mdsid\u001b[0m\u001b[0;34m)\u001b[0m\u001b[0;34m\u001b[0m\u001b[0;34m\u001b[0m\u001b[0m\n\u001b[1;32m    185\u001b[0m             \u001b[0;32mreturn\u001b[0m \u001b[0mdset\u001b[0m\u001b[0;34m\u001b[0m\u001b[0;34m\u001b[0m\u001b[0m\n",
            "\u001b[0;32m/usr/local/lib/python3.10/dist-packages/h5py/_hl/dataset.py\u001b[0m in \u001b[0;36mmake_new_dset\u001b[0;34m(parent, shape, dtype, data, name, chunks, compression, shuffle, fletcher32, maxshape, compression_opts, fillvalue, scaleoffset, track_times, external, track_order, dcpl, dapl, efile_prefix, virtual_prefix, allow_unknown_filter, rdcc_nslots, rdcc_nbytes, rdcc_w0)\u001b[0m\n\u001b[1;32m    163\u001b[0m         \u001b[0msid\u001b[0m \u001b[0;34m=\u001b[0m \u001b[0mh5s\u001b[0m\u001b[0;34m.\u001b[0m\u001b[0mcreate_simple\u001b[0m\u001b[0;34m(\u001b[0m\u001b[0mshape\u001b[0m\u001b[0;34m,\u001b[0m \u001b[0mmaxshape\u001b[0m\u001b[0;34m)\u001b[0m\u001b[0;34m\u001b[0m\u001b[0;34m\u001b[0m\u001b[0m\n\u001b[1;32m    164\u001b[0m \u001b[0;34m\u001b[0m\u001b[0m\n\u001b[0;32m--> 165\u001b[0;31m     \u001b[0mdset_id\u001b[0m \u001b[0;34m=\u001b[0m \u001b[0mh5d\u001b[0m\u001b[0;34m.\u001b[0m\u001b[0mcreate\u001b[0m\u001b[0;34m(\u001b[0m\u001b[0mparent\u001b[0m\u001b[0;34m.\u001b[0m\u001b[0mid\u001b[0m\u001b[0;34m,\u001b[0m \u001b[0mname\u001b[0m\u001b[0;34m,\u001b[0m \u001b[0mtid\u001b[0m\u001b[0;34m,\u001b[0m \u001b[0msid\u001b[0m\u001b[0;34m,\u001b[0m \u001b[0mdcpl\u001b[0m\u001b[0;34m=\u001b[0m\u001b[0mdcpl\u001b[0m\u001b[0;34m,\u001b[0m \u001b[0mdapl\u001b[0m\u001b[0;34m=\u001b[0m\u001b[0mdapl\u001b[0m\u001b[0;34m)\u001b[0m\u001b[0;34m\u001b[0m\u001b[0;34m\u001b[0m\u001b[0m\n\u001b[0m\u001b[1;32m    166\u001b[0m \u001b[0;34m\u001b[0m\u001b[0m\n\u001b[1;32m    167\u001b[0m     \u001b[0;32mif\u001b[0m \u001b[0;34m(\u001b[0m\u001b[0mdata\u001b[0m \u001b[0;32mis\u001b[0m \u001b[0;32mnot\u001b[0m \u001b[0;32mNone\u001b[0m\u001b[0;34m)\u001b[0m \u001b[0;32mand\u001b[0m \u001b[0;34m(\u001b[0m\u001b[0;32mnot\u001b[0m \u001b[0misinstance\u001b[0m\u001b[0;34m(\u001b[0m\u001b[0mdata\u001b[0m\u001b[0;34m,\u001b[0m \u001b[0mEmpty\u001b[0m\u001b[0;34m)\u001b[0m\u001b[0;34m)\u001b[0m\u001b[0;34m:\u001b[0m\u001b[0;34m\u001b[0m\u001b[0;34m\u001b[0m\u001b[0m\n",
            "\u001b[0;32mh5py/_objects.pyx\u001b[0m in \u001b[0;36mh5py._objects.with_phil.wrapper\u001b[0;34m()\u001b[0m\n",
            "\u001b[0;32mh5py/_objects.pyx\u001b[0m in \u001b[0;36mh5py._objects.with_phil.wrapper\u001b[0;34m()\u001b[0m\n",
            "\u001b[0;32mh5py/h5d.pyx\u001b[0m in \u001b[0;36mh5py.h5d.create\u001b[0;34m()\u001b[0m\n",
            "\u001b[0;31mValueError\u001b[0m: Unable to create dataset (name already exists)"
          ]
        }
      ]
    },
    {
      "cell_type": "markdown",
      "source": [
        "# Load Saved Model"
      ],
      "metadata": {
        "id": "bSBZ4m-bpVwy"
      }
    },
    {
      "cell_type": "code",
      "source": [
        "from keras.models import load_model\n",
        "model = load_model('model.h5')"
      ],
      "metadata": {
        "id": "9KvROyanpe_B"
      },
      "execution_count": null,
      "outputs": []
    },
    {
      "cell_type": "markdown",
      "source": [
        "#Predict"
      ],
      "metadata": {
        "id": "1vp2LBPiqFSx"
      }
    },
    {
      "cell_type": "markdown",
      "source": [
        "## Process Text"
      ],
      "metadata": {
        "id": "Lw32-f8JqMNu"
      }
    },
    {
      "cell_type": "code",
      "source": [
        "text_input = \"ray ban\"\n",
        "#text_input = \"\"\n",
        "#text_input =\"exfoliante\"\n",
        "from keras.preprocessing.text import Tokenizer\n",
        "from tensorflow.keras.preprocessing.sequence import pad_sequences\n",
        "\n",
        "# Convert the text to a numerical representation using a tokenizer\n",
        "tokenizer = Tokenizer()\n",
        "tokenizer.fit_on_texts([text_input])\n",
        "numerical_text = tokenizer.texts_to_sequences([text_input])[0]\n",
        "# Pad the numerical text sequence to have a length of 20\n",
        "padded_text = pad_sequences([numerical_text], maxlen=20)\n",
        "# Remove the extra dimension\n",
        "padded_text = tf.squeeze(padded_text, axis=0)\n"
      ],
      "metadata": {
        "id": "H5Qw0rIeqEWR"
      },
      "execution_count": null,
      "outputs": []
    },
    {
      "cell_type": "markdown",
      "source": [
        "## Process Image"
      ],
      "metadata": {
        "id": "tmpH-xT26Wkg"
      }
    },
    {
      "cell_type": "code",
      "source": [
        "import cv2\n",
        "import numpy as np\n",
        "import requests\n",
        "from tensorflow.keras.preprocessing import image\n",
        "# Load the image\n",
        "\n",
        "image_url= \"https://cdn.shopify.com/s/files/1/0015/7610/8121/products/805289602057_1050x700.png?v=1664469337\"\n",
        "\n",
        "# Fetch the image from the URL\n",
        "response = requests.get(image_url, stream=True)\n",
        "image_data = response.content\n",
        "\n",
        "# Load the image using PIL\n",
        "img = Image.open(io.BytesIO(image_data))\n",
        "\n",
        "# Show the downloaded image\n",
        "#img.show()\n",
        "\n",
        "imageResult = preProcessPredictImage(img)\n"
      ],
      "metadata": {
        "id": "BXEVrJhKyPq7"
      },
      "execution_count": null,
      "outputs": []
    },
    {
      "cell_type": "markdown",
      "source": [
        "## Get Predictions"
      ],
      "metadata": {
        "id": "0kbS4h5F6a1Q"
      }
    },
    {
      "cell_type": "code",
      "source": [
        "predictions = model.predict([imageResult, tf.convert_to_tensor([padded_text])])\n",
        "print(predictions)"
      ],
      "metadata": {
        "colab": {
          "base_uri": "https://localhost:8080/"
        },
        "id": "MC97JWDHyONR",
        "outputId": "17b65161-9579-4551-b43d-80d2204c05a8"
      },
      "execution_count": null,
      "outputs": [
        {
          "output_type": "stream",
          "name": "stdout",
          "text": [
            "1/1 [==============================] - 0s 401ms/step\n",
            "[[7.4756123e-38 2.2024572e-30 1.0000000e+00]]\n"
          ]
        }
      ]
    },
    {
      "cell_type": "code",
      "source": [
        "sorted_indices = np.argsort(predictions)[::-1]\n",
        "print(sorted_indices)"
      ],
      "metadata": {
        "colab": {
          "base_uri": "https://localhost:8080/"
        },
        "id": "Z-q9Wq6M7N2Z",
        "outputId": "7ad1bd7c-9da0-491c-ae1f-e8c2bcbaabf1"
      },
      "execution_count": null,
      "outputs": [
        {
          "output_type": "stream",
          "name": "stdout",
          "text": [
            "[[0 1 2]]\n"
          ]
        }
      ]
    },
    {
      "cell_type": "code",
      "source": [
        "print(predictions[0])"
      ],
      "metadata": {
        "colab": {
          "base_uri": "https://localhost:8080/"
        },
        "id": "8dmocImD7mhA",
        "outputId": "edb806c8-7b70-4b18-b74e-9098eaad9d5e"
      },
      "execution_count": null,
      "outputs": [
        {
          "output_type": "stream",
          "name": "stdout",
          "text": [
            "[7.4756123e-38 2.2024572e-30 1.0000000e+00]\n"
          ]
        }
      ]
    },
    {
      "cell_type": "markdown",
      "source": [
        "## Plot Results"
      ],
      "metadata": {
        "id": "6GYcRoGy-ax_"
      }
    },
    {
      "cell_type": "code",
      "source": [
        "import matplotlib.pyplot as plt\n",
        "\n",
        "# Generate the corresponding labels for the ranking\n",
        "labels = ['Store 0', 'Store 1', 'Store 2']\n",
        "\n",
        "# Create a DataFrame from the items and values\n",
        "df = pd.DataFrame({'Store': labels, 'Values': predictions[0]})\n",
        "\n",
        "# Sort the DataFrame by values in descending order\n",
        "df = df.sort_values(by='Values', ascending=False)\n",
        "\n",
        "# Reset the index of the DataFrame\n",
        "df = df.reset_index(drop=True)\n",
        "fig, ax = plt.subplots(figsize=(8, 2))\n",
        "ax.axis('off')\n",
        "table = plt.table(cellText=df.values,\n",
        "                  colLabels=df.columns,\n",
        "                  cellLoc='center',\n",
        "                  loc='center',\n",
        "                  colWidths=[0.3, 0.5])\n",
        "table.scale(1, 1.5)  # Adjust the scale of the table\n",
        "table.set_fontsize(12)\n",
        "\n",
        "\n",
        "plt.title('Ranking List')\n",
        "plt.show()"
      ],
      "metadata": {
        "colab": {
          "base_uri": "https://localhost:8080/",
          "height": 213
        },
        "id": "pvc2HSdd6nWw",
        "outputId": "68329d15-673c-4428-cf91-ebba5ab13d8a"
      },
      "execution_count": null,
      "outputs": [
        {
          "output_type": "display_data",
          "data": {
            "text/plain": [
              "<Figure size 800x200 with 1 Axes>"
            ],
            "image/png": "[encoded data removed]"
          },
          "metadata": {}
        }
      ]
    }
  ],
  "metadata": {
    "colab": {
      "provenance": [],
      "collapsed_sections": [
        "7rHfaLKs_MoS",
        "r9_jeHTUQt0T",
        "NlfwfrorEdN5",
        "2fsQOYQ_boAd",
        "0siBR2nxeDAz",
        "7DgOf2rtNx1D",
        "9NhVHw362kDr"
      ]
    },
    "kernelspec": {
      "display_name": "Python 3",
      "name": "python3"
    },
    "language_info": {
      "name": "python"
    }
  },
  "nbformat": 4,
  "nbformat_minor": 0
}