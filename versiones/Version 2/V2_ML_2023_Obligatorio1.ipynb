{
  "cells": [
    {
      "cell_type": "markdown",
      "source": [
        "#Imports"
      ],
      "metadata": {
        "id": "PRoHhH5xdim2"
      }
    },
    {
      "cell_type": "code",
      "execution_count": 1,
      "metadata": {
        "colab": {
          "base_uri": "https://localhost:8080/"
        },
        "id": "V1aRQ9qc60nB",
        "outputId": "12aa9891-3ebc-4934-8f7b-836a063a3528"
      },
      "outputs": [
        {
          "output_type": "stream",
          "name": "stdout",
          "text": [
            "Mounted at /content/drive\n"
          ]
        }
      ],
      "source": [
        "import os\n",
        "import io\n",
        "import torch\n",
        "import sklearn\n",
        "import numpy as np\n",
        "import pandas as pd\n",
        "from PIL import Image\n",
        "import tensorflow as tf\n",
        "from tensorflow.keras.models import Model\n",
        "from tensorflow.keras.optimizers import Adam\n",
        "from sklearn.model_selection import train_test_split\n",
        "from tensorflow.keras.applications.xception import Xception\n",
        "from tensorflow.keras.preprocessing import image\n",
        "from tensorflow.keras.applications.xception import preprocess_input, decode_predictions\n",
        "from tensorflow.keras.layers import Input, Flatten, Dense, Embedding, concatenate,LSTM\n",
        "from tensorflow.keras.preprocessing.image import ImageDataGenerator\n",
        "\n",
        "DEVICE = torch.device('cuda:0' if torch.cuda.is_available() else 'cpu')\n",
        "from google.colab import drive\n",
        "drive.mount(\"/content/drive\")\n",
        "\n",
        "#! cp \"/content/drive/My Drive/dataML2023/glove.6B.50d.txt\" .\n",
        "\n",
        "! cp \"/content/drive/My Drive/dataML2023/embeddings-xs-model.vec\" .\n",
        "! cp \"/content/drive/My Drive/dataML2023/dataset123.csv\" .\n",
        "! cp -r \"/content/drive/My Drive/dataML2023/img123\" .\n",
        "\n",
        "#ONLY WHEN YOU HAVE TO PREDICT USING EXISTING MODEL\n",
        "#! cp -r \"/content/drive/My Drive/ORT/ML Prod/Obligatorio/Modelo/model.h5\" .\n",
        "\n",
        "#path= \"Users/GP147352/Obligatorio/glove.6B.50d.txt\"\n",
        "file = \"s101006-2l-13-54ce75b2-6d98-4e88-bad4-1a1e94b2b4cb_fdf66140-1db7-4dc4-8c6a-f8f58ec87151.jpg_v=1686155027\"\n",
        "path=\"glove.6B.50d.txt\"\n",
        "path=\"embeddings-xs-model.vec\""
      ]
    },
    {
      "cell_type": "markdown",
      "source": [
        "#Image Utilities"
      ],
      "metadata": {
        "id": "7rHfaLKs_MoS"
      }
    },
    {
      "cell_type": "code",
      "source": [
        "def getImagesInFolder():\n",
        "  folder_path = 'img123'\n",
        "  elements = os.listdir(folder_path)\n",
        "  count = len(elements)\n",
        "\n",
        "  print(\"Number of elements in the folder:\", count)"
      ],
      "metadata": {
        "id": "QC-cwP9zN5TT"
      },
      "execution_count": 2,
      "outputs": []
    },
    {
      "cell_type": "code",
      "source": [
        "def showImage(img_path):\n",
        "  #img_path = \"img/s101006-2l-13-54ce75b2-6d98-4e88-bad4-1a1e94b2b4cb_fdf66140-1db7-4dc4-8c6a-f8f58ec87151.jpg_v=1686155027\"\n",
        "\n",
        "  image = Image.open(img_path)\n",
        "\n",
        "  image.show()"
      ],
      "metadata": {
        "id": "K57OHMH5EPec"
      },
      "execution_count": 3,
      "outputs": []
    },
    {
      "cell_type": "code",
      "source": [
        "def getImageFileName(url):\n",
        "\n",
        "  delimiterString = \"/\"\n",
        "\n",
        "  index = url.rfind(delimiterString)+ 1\n",
        "\n",
        "  imageFileName = url[index:]\n",
        "\n",
        "  imageFileName = imageFileName.replace('?', '_')\n",
        "\n",
        "  return imageFileName"
      ],
      "metadata": {
        "id": "Gd_Fvefi-EQi"
      },
      "execution_count": 4,
      "outputs": []
    },
    {
      "cell_type": "code",
      "source": [
        "def imageToBytes(filename):\n",
        "  try:\n",
        "    with open(filename, 'rb') as file:\n",
        "        byte_stream = file.read()\n",
        "    return byte_stream\n",
        "  except FileNotFoundError:\n",
        "    print(f\"File '{filename}' not found.\")\n",
        "    return None"
      ],
      "metadata": {
        "id": "f7q5rgYqLwld"
      },
      "execution_count": 5,
      "outputs": []
    },
    {
      "cell_type": "code",
      "source": [
        "def converToRGB(image):\n",
        "    if image.mode == 'RGBA':\n",
        "        # Create a new RGB image with a white background\n",
        "        rgb_image = Image.new('RGB', image.size, (255, 255, 255))\n",
        "        # Composite the RGBA image onto the RGB image\n",
        "        rgb_image.paste(image, mask=image.split()[3])\n",
        "        return rgb_image\n",
        "    elif image.mode == 'RGB':\n",
        "        # If the image is already in RGB format, return it as it is\n",
        "        return image\n",
        "    else:\n",
        "        # For other image modes, convert to RGB\n",
        "        return image.convert('RGB')"
      ],
      "metadata": {
        "id": "SlQl8C7lZ6ZA"
      },
      "execution_count": 6,
      "outputs": []
    },
    {
      "cell_type": "code",
      "source": [
        "def preProcessPredictImage(image):\n",
        "    image = converToRGB(image)\n",
        "    image = image.resize((299, 299))\n",
        "    image = np.array(image)\n",
        "    #Convert pixel values to the range of [-1, 1] + Normalize the image by subtracting the mean RGB values of the ImageNet dataset.\n",
        "    image = tf.keras.applications.xception.preprocess_input(image)\n",
        "    image = np.expand_dims(image, axis=0)\n",
        "    return image"
      ],
      "metadata": {
        "id": "YZBGLXiMyzip"
      },
      "execution_count": 7,
      "outputs": []
    },
    {
      "cell_type": "code",
      "source": [
        "def preProcessImage(image_path):\n",
        "    image = Image.open(\"img123/\"+image_path)\n",
        "    image = converToRGB(image)\n",
        "    #print(\"img123/\"+image_path)\n",
        "    image = image.resize((299, 299))\n",
        "    image = np.array(image)\n",
        "    image = tf.keras.applications.xception.preprocess_input(image)\n",
        "    image = np.expand_dims(image, axis=0)\n",
        "    return image"
      ],
      "metadata": {
        "id": "HHnOQhCyZ-jo"
      },
      "execution_count": 8,
      "outputs": []
    },
    {
      "cell_type": "code",
      "source": [
        "train_images = []\n",
        "def addImagesToDataSet():\n",
        "  for index, row in df.iterrows():\n",
        "    image_url = row['images']\n",
        "    #print(image_url)\n",
        "    image_fileName = getImageFileName(image_url)\n",
        "    #print(image_fileName)\n",
        "    image = preProcessImage(image_fileName)\n",
        "    train_images.append(image)\n",
        "    #print(type(image))\n",
        "    #df.at[index, 'imageObj'] = image"
      ],
      "metadata": {
        "id": "7Vj2PkZ6aZJA"
      },
      "execution_count": 9,
      "outputs": []
    },
    {
      "cell_type": "code",
      "source": [
        "def addImagesToDataSet(df):\n",
        "  images = []\n",
        "  for index, row in df.iterrows():\n",
        "    image_url = row['images']\n",
        "    image_fileName = getImageFileName(image_url)\n",
        "    image = preProcessImage(image_fileName)\n",
        "    images.append(image)\n",
        "\n",
        "  return images"
      ],
      "metadata": {
        "id": "rpl_h-hyaeov"
      },
      "execution_count": 10,
      "outputs": []
    },
    {
      "cell_type": "code",
      "source": [
        "def dataAugmentation(trainImages):\n",
        "  #https://fairyonice.github.io/Learn-about-ImageDataGenerator.html\n",
        "  # Define the data augmentation parameters\n",
        "  datagen = ImageDataGenerator(\n",
        "    rotation_range=20,#Degree range for random rotations.\n",
        "    shear_range=0.2,#Shear angle in degrees.\n",
        "    zoom_range=0.2,#Range for random zoom\n",
        "    horizontal_flip=True,#Randomly flip inputs horizontally.\n",
        "    )\n",
        "  x= np.stack(trainImages)\n",
        "  # Reshape the input to match the expected shape for data augmentation\n",
        "  x = x.reshape((-1,) + x.shape[2:])\n",
        "  # Generate augmented images\n",
        "  augmented_images = []\n",
        "  counter = 0\n",
        "  for img in x:\n",
        "    img = np.expand_dims(img, axis=0)  # Add an extra dimension to match batch size of 1\n",
        "    augmented_image = next(datagen.flow(img, batch_size=1))\n",
        "    #print(len(augmented_image))\n",
        "    augmented_image = np.expand_dims(augmented_image, axis=0)\n",
        "    augmented_images.append(augmented_image[0])\n",
        "    counter += 1\n",
        "    if counter >= len(x):\n",
        "        break\n",
        "  return augmented_images"
      ],
      "metadata": {
        "id": "ldwYolTMuQXM"
      },
      "execution_count": 35,
      "outputs": []
    },
    {
      "cell_type": "code",
      "source": [
        "def showImages(images):\n",
        "  fig, axes = plt.subplots(nrows=len(images), ncols=1, figsize=(100, 100))\n",
        "  for i, img in enumerate(images):\n",
        "      if img.ndim == 2:\n",
        "        axes[i].imshow(img, cmap='gray')\n",
        "      elif img.ndim == 3:\n",
        "        axes[i].imshow(img)\n",
        "      axes[i].axis('off')\n",
        "\n",
        "  plt.tight_layout()\n",
        "  plt.show()"
      ],
      "metadata": {
        "id": "e4kCAB8ru7-E"
      },
      "execution_count": 12,
      "outputs": []
    },
    {
      "cell_type": "markdown",
      "metadata": {
        "id": "r9_jeHTUQt0T"
      },
      "source": [
        "# Preprocesamiento Texto"
      ]
    },
    {
      "cell_type": "code",
      "execution_count": 13,
      "metadata": {
        "colab": {
          "base_uri": "https://localhost:8080/"
        },
        "id": "VmRY0yQELXmn",
        "outputId": "eea675a9-d8c5-4863-fb7b-c89cc1818af6"
      },
      "outputs": [
        {
          "output_type": "stream",
          "name": "stderr",
          "text": [
            "[nltk_data] Downloading package stopwords to /root/nltk_data...\n",
            "[nltk_data]   Unzipping corpora/stopwords.zip.\n",
            "[nltk_data] Downloading package wordnet to /root/nltk_data...\n"
          ]
        }
      ],
      "source": [
        "import re\n",
        "import nltk\n",
        "from nltk.corpus import stopwords\n",
        "from nltk.stem import WordNetLemmatizer\n",
        "from nltk.stem import SnowballStemmer\n",
        "nltk.download('stopwords')\n",
        "nltk.download('wordnet')\n",
        "stemmer = SnowballStemmer('spanish')\n",
        "\n",
        "def remove_special_characters(text):\n",
        "  pattern = r'[^a-zA-Z0-9\\s]'\n",
        "  text = re.sub(pattern,'',text)\n",
        "  return text\n",
        "\n",
        "def low_level_preproc(text):\n",
        "  text = remove_special_characters(text)\n",
        "  text = text.lower()\n",
        "  return text\n",
        "# Remove stopwords for spanish language: https://github.com/Alir3z4/stop-words/blob/master/spanish.txt\n",
        "all_stopwords = set(stopwords.words(\"spanish\"))\n",
        "\n",
        "def remove_stop_words(full_text_line):\n",
        "  tokens = full_text_line.split()\n",
        "  tokens = [tok for tok in tokens if tok not in all_stopwords]\n",
        "\n",
        "  return \" \".join(tokens)\n",
        "\n",
        "#Lemmatization is the process of reducing words to their base or root form\n",
        "#\"The cats were playing with the mice\"\n",
        "#The cat were playing with the mouse\n",
        "def lemmatize(text):\n",
        "  wnl= WordNetLemmatizer()\n",
        "  lemas = [wnl.lemmatize(word) for word in text.split()]\n",
        "\n",
        "  return \" \".join(lemas)\n",
        "\n",
        "#Stemming: reduce words to their base or root form\n",
        "#words = ['correr', 'corriendo', 'corre', 'corrió']\n",
        "#output= ['corr', 'corr', 'corr', 'corr']\n",
        "def stem(text):\n",
        "  stemmed_words = [stemmer.stem(word) for word in text.split()]\n",
        "  return \" \".join(stemmed_words)\n",
        "\n",
        "\n",
        "def high_level_preproc(text):\n",
        "  text = remove_stop_words(text)\n",
        "  return stem(text)\n",
        "\n",
        "def remove_empty_words(questions_data):\n",
        "  df = questions_data\n",
        "  originalLen = len(df)\n",
        "  indexes = []\n",
        "  for index ,row in df.iterrows():\n",
        "    text = row['question_text']\n",
        "    if (text==\"\"):\n",
        "      indexes.append(index)\n",
        "\n",
        "  df = df.drop(indexes);\n",
        "  finalLen = len(df)\n",
        "  print(f\"Len Original: {originalLen}, Registros Eliminados: {originalLen-finalLen}\")\n",
        "  return df\n",
        "\n",
        "def remove_duplicated(serie):\n",
        "  return serie.drop_duplicates()\n",
        "\n"
      ]
    },
    {
      "cell_type": "markdown",
      "source": [
        "# Load DataSet"
      ],
      "metadata": {
        "id": "NlfwfrorEdN5"
      }
    },
    {
      "cell_type": "code",
      "execution_count": 14,
      "metadata": {
        "id": "svEYI1bqB3PN"
      },
      "outputs": [],
      "source": [
        "# Read the uploaded file\n",
        "df = pd.read_csv('dataset123.csv')\n",
        "df['imageObj'] = None"
      ]
    },
    {
      "cell_type": "code",
      "source": [
        "#df = df.drop(to_delete)"
      ],
      "metadata": {
        "id": "oLoCrLJ8hoDl"
      },
      "execution_count": null,
      "outputs": []
    },
    {
      "cell_type": "markdown",
      "source": [
        "##Process Text"
      ],
      "metadata": {
        "id": "2fsQOYQ_boAd"
      }
    },
    {
      "cell_type": "code",
      "execution_count": 15,
      "metadata": {
        "colab": {
          "base_uri": "https://localhost:8080/"
        },
        "id": "14SNj3dTESCn",
        "outputId": "53ebfe6a-3704-4bcb-ba78-a9fe39670bc4"
      },
      "outputs": [
        {
          "output_type": "stream",
          "name": "stdout",
          "text": [
            "0     Gold Standard 100% Whey Protein (2 Lb) - Origi...\n",
            "1     Enjuague Bucal Tea Tree (500 ml)Nuestras formu...\n",
            "2     MÃ¡scara Jelly Mask Hydrating Vitamina E (1 un...\n",
            "3     VITAMINA K2Vitamina K2 es un suplemento alimen...\n",
            "4     Hand Grip + ContadorHAND GRIP AJUSTABLE FITNES...\n",
            "                            ...                        \n",
            "65    Lentes de Sol Polaroid 8411A 9CA 63/16Descripc...\n",
            "66    Armazones Unofficial UNOM0063 BB00 52/19CoÌdi...\n",
            "67    Lentes de Sol Ray Ban 2140 902/57 50/22CoÌdig...\n",
            "68    Lentes de Sol Unofficial  UNSM0014 HHE0 57/14D...\n",
            "69    Lentes de Sol Unofficial Polarizado UNSU0083PH...\n",
            "Length: 70, dtype: object\n"
          ]
        }
      ],
      "source": [
        "# Concatenate title and description\n",
        "title_desc =  df.iloc[:, 0] + df.iloc[:, 1]\n",
        "# Print the updated DataFrame\n",
        "print(title_desc)"
      ]
    },
    {
      "cell_type": "code",
      "execution_count": 16,
      "metadata": {
        "colab": {
          "base_uri": "https://localhost:8080/"
        },
        "id": "4lsHttdtOJrO",
        "outputId": "3c504bb8-de4d-4757-87b8-02444518f7a5"
      },
      "outputs": [
        {
          "output_type": "stream",
          "name": "stdout",
          "text": [
            "0     gold standard 100 whey protein 2 lb  original1...\n",
            "1     enjuague bucal tea tree 500 mlnuestras formula...\n",
            "2     mscara jelly mask hydrating vitamina e 1 unmas...\n",
            "3     vitamina k2vitamina k2 es un suplemento alimen...\n",
            "4     hand grip  contadorhand grip ajustable fitness...\n",
            "                            ...                        \n",
            "65    lentes de sol polaroid 8411a 9ca 6316descripci...\n",
            "66    armazones unofficial unom0063 bb00 5219codigo ...\n",
            "67    lentes de sol ray ban 2140 90257 5022codigo de...\n",
            "68    lentes de sol unofficial  unsm0014 hhe0 5714de...\n",
            "69    lentes de sol unofficial polarizado unsu0083ph...\n",
            "Length: 70, dtype: object\n"
          ]
        }
      ],
      "source": [
        "#Procesamiento de Bajo Nivel\n",
        "title_desc = title_desc.apply(low_level_preproc)\n",
        "print(title_desc)"
      ]
    },
    {
      "cell_type": "code",
      "execution_count": 17,
      "metadata": {
        "colab": {
          "base_uri": "https://localhost:8080/"
        },
        "id": "7-uUQfOqOWGY",
        "outputId": "d3027bb0-4a49-4b87-a281-9cd71724cefb"
      },
      "outputs": [
        {
          "output_type": "stream",
          "name": "stdout",
          "text": [
            "0     gold standard 100 whey protein 2 lb original10...\n",
            "1     enjuag bucal tea tre 500 mlnuestr formul enjua...\n",
            "2     mscar jelly mask hydrating vitamin 1 unmascari...\n",
            "3     vitamin k2vitamin k2 suplement alimentari perm...\n",
            "4     hand grip contadorhand grip ajust fitness blu fit\n",
            "                            ...                        \n",
            "65    lent sol polar 8411a 9ca 6316descripciongener ...\n",
            "66    armazon unofficial unom0063 bb00 5219codig pro...\n",
            "67    lent sol ray ban 2140 90257 5022codig product ...\n",
            "68    lent sol unofficial unsm0014 hhe0 5714descripc...\n",
            "69    lent sol unofficial polariz unsu0083phhe0 5422...\n",
            "Length: 70, dtype: object\n"
          ]
        }
      ],
      "source": [
        "#Procesamiento de Alto Nivel\n",
        "title_desc =title_desc.apply(high_level_preproc)\n",
        "print(title_desc)"
      ]
    },
    {
      "cell_type": "code",
      "execution_count": 18,
      "metadata": {
        "colab": {
          "base_uri": "https://localhost:8080/"
        },
        "id": "bX6NQefB7ODx",
        "outputId": "5476919d-54e8-49c8-b2ac-f44e00acb85e"
      },
      "outputs": [
        {
          "output_type": "stream",
          "name": "stdout",
          "text": [
            "Found 1313424 word vectors.\n"
          ]
        }
      ],
      "source": [
        "#LOAD\n",
        "embedding_path=\"embeddings-xs-model.vec\"\n",
        "embeddings_index = {}\n",
        "with open(embedding_path) as f:\n",
        "    #print(f)\n",
        "    for line in f:\n",
        "        #print(line)\n",
        "        word, coefs = line.split(maxsplit=1)\n",
        "        coefs = np.fromstring(coefs, \"f\", sep=\" \")\n",
        "        embeddings_index[word] = coefs\n",
        "\n",
        "print(\"Found %s word vectors.\" % len(embeddings_index))"
      ]
    },
    {
      "cell_type": "code",
      "execution_count": 19,
      "metadata": {
        "id": "B5YpRHNWFTX0"
      },
      "outputs": [],
      "source": [
        "# Create an embedding matrix\n",
        "from tensorflow.keras.preprocessing.text import Tokenizer\n",
        "text_list = title_desc.tolist()\n",
        "tokenizer = Tokenizer()\n",
        "tokenizer.fit_on_texts(text_list)\n",
        "vocab_size = len(tokenizer.word_index) + 1"
      ]
    },
    {
      "cell_type": "code",
      "execution_count": 20,
      "metadata": {
        "colab": {
          "base_uri": "https://localhost:8080/"
        },
        "id": "3YdPj9Z-_vRa",
        "outputId": "f402c511-e7e1-4d05-f95d-982d6a7ca00c"
      },
      "outputs": [
        {
          "output_type": "execute_result",
          "data": {
            "text/plain": [
              "1044"
            ]
          },
          "metadata": {},
          "execution_count": 20
        }
      ],
      "source": [
        "vocab_size"
      ]
    },
    {
      "cell_type": "code",
      "source": [
        "embedding_dim = 10\n",
        "embedding_matrix = np.zeros((vocab_size, embedding_dim))\n",
        "for word, i in tokenizer.word_index.items():\n",
        "    embedding_vector = embeddings_index.get(word)\n",
        "    if embedding_vector is not None:\n",
        "        embedding_matrix[i] = embedding_vector"
      ],
      "metadata": {
        "id": "9Jvy5nOWcV_2"
      },
      "execution_count": 21,
      "outputs": []
    },
    {
      "cell_type": "code",
      "source": [
        "from tensorflow.keras.preprocessing.sequence import pad_sequences\n",
        "X_text_sequences = tokenizer.texts_to_sequences(text_list)\n",
        "X_text_padded = pad_sequences(X_text_sequences, maxlen=20)"
      ],
      "metadata": {
        "id": "iSbz8JZaKpB2"
      },
      "execution_count": 22,
      "outputs": []
    },
    {
      "cell_type": "code",
      "source": [
        "df['textSequence'] = None\n",
        "df['textSequence'] = pd.Series(X_text_padded.tolist())"
      ],
      "metadata": {
        "id": "Czzd8A58PNvQ"
      },
      "execution_count": 23,
      "outputs": []
    },
    {
      "cell_type": "code",
      "source": [
        "df['textSequence'].values[1]"
      ],
      "metadata": {
        "id": "bVqrDq_FQdeF"
      },
      "execution_count": null,
      "outputs": []
    },
    {
      "cell_type": "markdown",
      "metadata": {
        "id": "0siBR2nxeDAz"
      },
      "source": [
        "#SPLIT TRAIN"
      ]
    },
    {
      "cell_type": "code",
      "execution_count": 25,
      "metadata": {
        "id": "CsuVaq2od8l6"
      },
      "outputs": [],
      "source": [
        "def split(train):\n",
        "\n",
        "    # Split train to train and validation datasets\n",
        "    # Validation for use during learning\n",
        "    train, val = train_test_split(train, test_size=0.2, random_state=24)\n",
        "\n",
        "    return(train, val)"
      ]
    },
    {
      "cell_type": "markdown",
      "source": [
        "#Create Model"
      ],
      "metadata": {
        "id": "84X1WQGjcu0-"
      }
    },
    {
      "cell_type": "code",
      "execution_count": 26,
      "metadata": {
        "id": "qeDSjlIaHt9x"
      },
      "outputs": [],
      "source": [
        "text_input = Input(shape=(20,), dtype='int32', name='tag')#20 largo de descripciones o titulo a utilizar\n",
        "embedding_layer = Embedding(vocab_size, embedding_dim,weights=[embedding_matrix], trainable=False)(text_input)\n",
        "text_output = LSTM(64)(embedding_layer)"
      ]
    },
    {
      "cell_type": "code",
      "source": [
        "base_model = Xception(weights='imagenet', include_top=False)\n",
        "\n",
        "image_input = Input(shape=(299, 299, 3))\n",
        "x = base_model(image_input)\n",
        "x = Flatten()(x)\n",
        "x = Dense(128, activation='relu')(x)\n",
        "image_output = Dense(64, activation='relu')(x)"
      ],
      "metadata": {
        "colab": {
          "base_uri": "https://localhost:8080/"
        },
        "id": "NSE2oY-2CW3q",
        "outputId": "038a8cf9-5e63-4935-9ce3-ee8ee31e26dd"
      },
      "execution_count": 27,
      "outputs": [
        {
          "output_type": "stream",
          "name": "stdout",
          "text": [
            "Downloading data from https://storage.googleapis.com/tensorflow/keras-applications/xception/xception_weights_tf_dim_ordering_tf_kernels_notop.h5\n",
            "83683744/83683744 [==============================] - 1s 0us/step\n"
          ]
        }
      ]
    },
    {
      "cell_type": "code",
      "execution_count": 28,
      "metadata": {
        "id": "VkBtuWElIT4f"
      },
      "outputs": [],
      "source": [
        "concatenated = concatenate([image_output, text_output])\n",
        "output = Dense(1, activation='sigmoid')(concatenated)\n",
        "x = Dense(64, activation='relu')(concatenated)\n",
        "output = Dense(3, activation='softmax')(x)\n",
        "\n",
        "# Create the model\n",
        "model = Model(inputs=[image_input, text_input], outputs=output)\n",
        "# Compile the model\n",
        "model.compile(optimizer=Adam(), loss='categorical_crossentropy', metrics=['accuracy'])\n",
        "\n"
      ]
    },
    {
      "cell_type": "markdown",
      "source": [
        "# Train the model"
      ],
      "metadata": {
        "id": "MRKonbgmy7mk"
      }
    },
    {
      "cell_type": "code",
      "source": [
        "train, val = split(df)\n",
        "print(f\"DataSet Original:{len(df)}, Train:{len(train)},Validation:{len(val)}\")"
      ],
      "metadata": {
        "colab": {
          "base_uri": "https://localhost:8080/"
        },
        "id": "dTMyeqPBznT6",
        "outputId": "a28d1ecc-0a9a-40fc-ac08-d8f3c9af0a84"
      },
      "execution_count": 29,
      "outputs": [
        {
          "output_type": "stream",
          "name": "stdout",
          "text": [
            "DataSet Original:70, Train:56,Validation:14\n"
          ]
        }
      ]
    },
    {
      "cell_type": "code",
      "source": [
        "train"
      ],
      "metadata": {
        "id": "bjbFbUEmSMaW"
      },
      "execution_count": null,
      "outputs": []
    },
    {
      "cell_type": "code",
      "source": [
        "num_classes = len(df['store'].unique())\n",
        "print(num_classes)"
      ],
      "metadata": {
        "colab": {
          "base_uri": "https://localhost:8080/"
        },
        "id": "adl8z92T3jDp",
        "outputId": "9f6b7e1c-63d5-4014-d75d-7daad23a38ed"
      },
      "execution_count": 31,
      "outputs": [
        {
          "output_type": "stream",
          "name": "stdout",
          "text": [
            "3\n"
          ]
        }
      ]
    },
    {
      "cell_type": "code",
      "source": [
        "trainImages = addImagesToDataSet(train)\n",
        "augmentedImages = dataAugmentation(trainImages)\n",
        "originalAndAugmented = trainImages + augmentedImages"
      ],
      "metadata": {
        "id": "srWwhqQRsHol"
      },
      "execution_count": 36,
      "outputs": []
    },
    {
      "cell_type": "code",
      "source": [
        "from tensorflow.keras.utils import to_categorical\n",
        "#X_train_images = train['image_bytes']\n",
        "X_train_images = np.concatenate(originalAndAugmented, axis=0)\n",
        "\n",
        "# Duplicate all train values (we asume 1 augmented image per row)\n",
        "textSequence = train['textSequence']\n",
        "textSequence = pd.concat([textSequence] * 2, ignore_index=True)\n",
        "X_train_text = tf.convert_to_tensor(textSequence.tolist())\n",
        "#X_train_text = tf.convert_to_tensor(train['textSequence'].tolist())\n",
        "orginalAndDuplicatedStores =  train['store']\n",
        "orginalAndDuplicatedStores = pd.concat([orginalAndDuplicatedStores] * 2, ignore_index=True)\n",
        "y_train = to_categorical(orginalAndDuplicatedStores.astype(int).values, num_classes)\n",
        "\n",
        "#X_test_images = val['image_bytes']\n",
        "X_test_images = np.concatenate(addImagesToDataSet(val), axis=0)\n",
        "X_test_text = tf.convert_to_tensor(val['textSequence'].tolist())\n",
        "y_test = to_categorical(val['store'].astype(int).values, num_classes)"
      ],
      "metadata": {
        "id": "Fz98nfhO0HGz"
      },
      "execution_count": 39,
      "outputs": []
    },
    {
      "cell_type": "code",
      "source": [
        "history = model.fit([X_train_images, X_train_text], y_train, epochs=8, validation_data=([X_test_images, X_test_text], y_test))"
      ],
      "metadata": {
        "colab": {
          "base_uri": "https://localhost:8080/"
        },
        "id": "sN0ki8SmywGU",
        "outputId": "2cd7497e-2dbf-4350-d934-9e6c7382d5bb"
      },
      "execution_count": 40,
      "outputs": [
        {
          "output_type": "stream",
          "name": "stdout",
          "text": [
            "Epoch 1/8\n",
            "4/4 [==============================] - 275s 56s/step - loss: 1.7364 - accuracy: 0.3304 - val_loss: 1.0728 - val_accuracy: 0.3571\n",
            "Epoch 2/8\n",
            "4/4 [==============================] - 228s 55s/step - loss: 1.0341 - accuracy: 0.5357 - val_loss: 1.0063 - val_accuracy: 0.3571\n",
            "Epoch 3/8\n",
            "4/4 [==============================] - 227s 56s/step - loss: 0.8198 - accuracy: 0.6429 - val_loss: 3.2032 - val_accuracy: 0.3571\n",
            "Epoch 4/8\n",
            "4/4 [==============================] - 205s 48s/step - loss: 0.6863 - accuracy: 0.7411 - val_loss: 5.8525 - val_accuracy: 0.4286\n",
            "Epoch 5/8\n",
            "4/4 [==============================] - 197s 47s/step - loss: 0.5718 - accuracy: 0.9375 - val_loss: 2.2441 - val_accuracy: 0.6429\n",
            "Epoch 6/8\n",
            "4/4 [==============================] - 208s 50s/step - loss: 0.4003 - accuracy: 0.9821 - val_loss: 1.6186 - val_accuracy: 0.6429\n",
            "Epoch 7/8\n",
            "4/4 [==============================] - 204s 50s/step - loss: 0.2435 - accuracy: 1.0000 - val_loss: 0.8894 - val_accuracy: 0.6429\n",
            "Epoch 8/8\n",
            "4/4 [==============================] - 197s 47s/step - loss: 0.1025 - accuracy: 1.0000 - val_loss: 1.0631 - val_accuracy: 0.7857\n"
          ]
        }
      ]
    },
    {
      "cell_type": "markdown",
      "source": [
        "#Plot"
      ],
      "metadata": {
        "id": "9NhVHw362kDr"
      }
    },
    {
      "cell_type": "code",
      "source": [
        "import matplotlib.pyplot as plt\n",
        "\n",
        "# Access the training history\n",
        "train_loss = history.history['loss']\n",
        "train_accuracy = history.history['accuracy']\n",
        "val_loss = history.history['val_loss']\n",
        "val_accuracy = history.history['val_accuracy']\n",
        "epochs = range(1, len(train_loss) + 1)\n",
        "\n",
        "# Plot the training and validation loss\n",
        "plt.figure(figsize=(12, 6))\n",
        "plt.subplot(1, 2, 1)\n",
        "plt.plot(epochs, train_loss, 'b-', label='Training Loss')\n",
        "plt.plot(epochs, val_loss, 'r-', label='Validation Loss')\n",
        "plt.title('Training and Validation Loss')\n",
        "plt.xlabel('Epochs')\n",
        "plt.ylabel('Loss')\n",
        "plt.legend()\n",
        "\n",
        "# Plot the training and validation accuracy\n",
        "plt.subplot(1, 2, 2)\n",
        "plt.plot(epochs, train_accuracy, 'b-', label='Training Accuracy')\n",
        "plt.plot(epochs, val_accuracy, 'r-', label='Validation Accuracy')\n",
        "plt.title('Training and Validation Accuracy')\n",
        "plt.xlabel('Epochs')\n",
        "plt.ylabel('Accuracy')\n",
        "plt.legend()\n",
        "\n",
        "# Display the plots\n",
        "plt.tight_layout()\n",
        "plt.show()"
      ],
      "metadata": {
        "colab": {
          "base_uri": "https://localhost:8080/",
          "height": 345
        },
        "id": "57CW4Dtj2iG8",
        "outputId": "bcea5904-9a73-4094-aa6b-023d43a5c692"
      },
      "execution_count": 41,
      "outputs": [
        {
          "output_type": "display_data",
          "data": {
            "text/plain": [
              "<Figure size 1200x600 with 2 Axes>"
            ],
            "image/png": "[encoded data removed]"
          },
          "metadata": {}
        }
      ]
    },
    {
      "cell_type": "markdown",
      "source": [
        "# Save Model"
      ],
      "metadata": {
        "id": "ti5TcTqI7MBb"
      }
    },
    {
      "cell_type": "code",
      "source": [
        "model.save('model2.h5')"
      ],
      "metadata": {
        "id": "6KBVLc3y2pc8"
      },
      "execution_count": 42,
      "outputs": []
    },
    {
      "cell_type": "markdown",
      "source": [
        "# Load Saved Model"
      ],
      "metadata": {
        "id": "bSBZ4m-bpVwy"
      }
    },
    {
      "cell_type": "code",
      "source": [
        "from keras.models import load_model\n",
        "model = load_model('model.h5')"
      ],
      "metadata": {
        "id": "9KvROyanpe_B"
      },
      "execution_count": 5,
      "outputs": []
    },
    {
      "cell_type": "markdown",
      "source": [
        "#Predict"
      ],
      "metadata": {
        "id": "1vp2LBPiqFSx"
      }
    },
    {
      "cell_type": "markdown",
      "source": [
        "## Process Text"
      ],
      "metadata": {
        "id": "Lw32-f8JqMNu"
      }
    },
    {
      "cell_type": "code",
      "source": [
        "text_input = \"ray ban\"\n",
        "#text_input = \"\"\n",
        "#text_input =\"exfoliante\"\n",
        "from keras.preprocessing.text import Tokenizer\n",
        "from tensorflow.keras.preprocessing.sequence import pad_sequences\n",
        "\n",
        "# Convert the text to a numerical representation using a tokenizer\n",
        "tokenizer = Tokenizer()\n",
        "tokenizer.fit_on_texts([text_input])\n",
        "numerical_text = tokenizer.texts_to_sequences([text_input])[0]\n",
        "# Pad the numerical text sequence to have a length of 20\n",
        "padded_text = pad_sequences([numerical_text], maxlen=20)\n",
        "# Remove the extra dimension\n",
        "padded_text = tf.squeeze(padded_text, axis=0)\n"
      ],
      "metadata": {
        "id": "H5Qw0rIeqEWR"
      },
      "execution_count": 66,
      "outputs": []
    },
    {
      "cell_type": "markdown",
      "source": [
        "## Process Image"
      ],
      "metadata": {
        "id": "tmpH-xT26Wkg"
      }
    },
    {
      "cell_type": "code",
      "source": [
        "import cv2\n",
        "import numpy as np\n",
        "import requests\n",
        "from tensorflow.keras.preprocessing import image\n",
        "# Load the image\n",
        "\n",
        "image_url= \"https://cdn.shopify.com/s/files/1/0015/7610/8121/products/805289602057_1050x700.png?v=1664469337\"\n",
        "\n",
        "# Fetch the image from the URL\n",
        "response = requests.get(image_url, stream=True)\n",
        "image_data = response.content\n",
        "\n",
        "# Load the image using PIL\n",
        "img = Image.open(io.BytesIO(image_data))\n",
        "\n",
        "# Show the downloaded image\n",
        "#img.show()\n",
        "\n",
        "imageResult = preProcessPredictImage(img)\n"
      ],
      "metadata": {
        "id": "BXEVrJhKyPq7"
      },
      "execution_count": 67,
      "outputs": []
    },
    {
      "cell_type": "markdown",
      "source": [
        "## Get Predictions"
      ],
      "metadata": {
        "id": "0kbS4h5F6a1Q"
      }
    },
    {
      "cell_type": "code",
      "source": [
        "predictions = model.predict([imageResult, tf.convert_to_tensor([padded_text])])\n",
        "print(predictions)"
      ],
      "metadata": {
        "colab": {
          "base_uri": "https://localhost:8080/",
          "height": 0
        },
        "id": "MC97JWDHyONR",
        "outputId": "17b65161-9579-4551-b43d-80d2204c05a8"
      },
      "execution_count": 68,
      "outputs": [
        {
          "output_type": "stream",
          "name": "stdout",
          "text": [
            "1/1 [==============================] - 0s 401ms/step\n",
            "[[7.4756123e-38 2.2024572e-30 1.0000000e+00]]\n"
          ]
        }
      ]
    },
    {
      "cell_type": "code",
      "source": [
        "sorted_indices = np.argsort(predictions)[::-1]\n",
        "print(sorted_indices)"
      ],
      "metadata": {
        "colab": {
          "base_uri": "https://localhost:8080/",
          "height": 0
        },
        "id": "Z-q9Wq6M7N2Z",
        "outputId": "7ad1bd7c-9da0-491c-ae1f-e8c2bcbaabf1"
      },
      "execution_count": 71,
      "outputs": [
        {
          "output_type": "stream",
          "name": "stdout",
          "text": [
            "[[0 1 2]]\n"
          ]
        }
      ]
    },
    {
      "cell_type": "code",
      "source": [
        "print(predictions[0])"
      ],
      "metadata": {
        "colab": {
          "base_uri": "https://localhost:8080/",
          "height": 0
        },
        "id": "8dmocImD7mhA",
        "outputId": "edb806c8-7b70-4b18-b74e-9098eaad9d5e"
      },
      "execution_count": 74,
      "outputs": [
        {
          "output_type": "stream",
          "name": "stdout",
          "text": [
            "[7.4756123e-38 2.2024572e-30 1.0000000e+00]\n"
          ]
        }
      ]
    },
    {
      "cell_type": "markdown",
      "source": [
        "## Plot Results"
      ],
      "metadata": {
        "id": "6GYcRoGy-ax_"
      }
    },
    {
      "cell_type": "code",
      "source": [
        "import matplotlib.pyplot as plt\n",
        "\n",
        "# Generate the corresponding labels for the ranking\n",
        "labels = ['Store 0', 'Store 1', 'Store 2']\n",
        "\n",
        "# Create a DataFrame from the items and values\n",
        "df = pd.DataFrame({'Store': labels, 'Values': predictions[0]})\n",
        "\n",
        "# Sort the DataFrame by values in descending order\n",
        "df = df.sort_values(by='Values', ascending=False)\n",
        "\n",
        "# Reset the index of the DataFrame\n",
        "df = df.reset_index(drop=True)\n",
        "fig, ax = plt.subplots(figsize=(8, 2))\n",
        "ax.axis('off')\n",
        "table = plt.table(cellText=df.values,\n",
        "                  colLabels=df.columns,\n",
        "                  cellLoc='center',\n",
        "                  loc='center',\n",
        "                  colWidths=[0.3, 0.5])\n",
        "table.scale(1, 1.5)  # Adjust the scale of the table\n",
        "table.set_fontsize(12)\n",
        "\n",
        "\n",
        "plt.title('Ranking List')\n",
        "plt.show()"
      ],
      "metadata": {
        "colab": {
          "base_uri": "https://localhost:8080/",
          "height": 0
        },
        "id": "pvc2HSdd6nWw",
        "outputId": "68329d15-673c-4428-cf91-ebba5ab13d8a"
      },
      "execution_count": 88,
      "outputs": [
        {
          "output_type": "display_data",
          "data": {
            "text/plain": [
              "<Figure size 800x200 with 1 Axes>"
            ],
            "image/png": "[encoded data removed]"
          },
          "metadata": {}
        }
      ]
    }
  ],
  "metadata": {
    "colab": {
      "provenance": [],
      "collapsed_sections": [
        "r9_jeHTUQt0T",
        "NlfwfrorEdN5",
        "0siBR2nxeDAz",
        "84X1WQGjcu0-",
        "9NhVHw362kDr",
        "1vp2LBPiqFSx"
      ]
    },
    "kernelspec": {
      "display_name": "Python 3",
      "name": "python3"
    },
    "language_info": {
      "name": "python"
    }
  },
  "nbformat": 4,
  "nbformat_minor": 0
}